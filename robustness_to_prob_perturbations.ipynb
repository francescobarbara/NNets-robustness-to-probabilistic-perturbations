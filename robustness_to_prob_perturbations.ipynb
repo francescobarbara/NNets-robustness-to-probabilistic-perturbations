{
  "nbformat": 4,
  "nbformat_minor": 0,
  "metadata": {
    "colab": {
      "name": "robustness_to_prob_perturbations.ipynb",
      "provenance": [],
      "collapsed_sections": [],
      "authorship_tag": "ABX9TyMZ3UvNvY+swkoZKzG2QapW",
      "include_colab_link": true
    },
    "kernelspec": {
      "name": "python3",
      "display_name": "Python 3"
    },
    "language_info": {
      "name": "python"
    }
  },
  "cells": [
    {
      "cell_type": "markdown",
      "metadata": {
        "id": "view-in-github",
        "colab_type": "text"
      },
      "source": [
        "<a href=\"https://colab.research.google.com/github/francescobarbara/NNets-robustness-to-probabilistic-perturbations/blob/main/robustness_to_prob_perturbations.ipynb\" target=\"_parent\"><img src=\"https://colab.research.google.com/assets/colab-badge.svg\" alt=\"Open In Colab\"/></a>"
      ]
    },
    {
      "cell_type": "code",
      "metadata": {
        "id": "sCNfggU1lfi-"
      },
      "source": [
        "from google.colab import output\n",
        "\n",
        "with output.temporary():\n",
        "  !pip install --upgrade git+https://github.com/Kreijstal/colab_inspector.git \n",
        "  !python2.7 -m pip install --upgrade git+https://github.com/blois/colab_inspector.git \n",
        "  !jupyter nbextension install --py inspector\n",
        "\n",
        "import inspector\n",
        "\n",
        "# open a scratch cell (Ctrl+Alt+N)\n",
        "# run there\n",
        "# inspector.watch_globals()"
      ],
      "execution_count": null,
      "outputs": []
    },
    {
      "cell_type": "code",
      "metadata": {
        "id": "-Dp3gmF9lP2M"
      },
      "source": [
        "inspector.watch_globals()"
      ],
      "execution_count": null,
      "outputs": []
    },
    {
      "cell_type": "code",
      "metadata": {
        "id": "BMDyiLixkzM_"
      },
      "source": [
        "from keras.datasets import mnist\n",
        "import matplotlib.pyplot as plt\n",
        "import numpy as np\n",
        "from keras.models import Sequential\n",
        "from keras.layers import Dense, Flatten"
      ],
      "execution_count": null,
      "outputs": []
    },
    {
      "cell_type": "code",
      "metadata": {
        "id": "9UsVcwcKlWQV"
      },
      "source": [
        "from copy import deepcopy"
      ],
      "execution_count": null,
      "outputs": []
    },
    {
      "cell_type": "code",
      "metadata": {
        "id": "6yU5sGgnlaPN"
      },
      "source": [
        "import seaborn as sns"
      ],
      "execution_count": null,
      "outputs": []
    },
    {
      "cell_type": "code",
      "metadata": {
        "id": "v_h4YC1v7Unl"
      },
      "source": [
        "import matplotlib.pyplot as plt"
      ],
      "execution_count": null,
      "outputs": []
    },
    {
      "cell_type": "code",
      "metadata": {
        "id": "BFEegZzAm4s_"
      },
      "source": [
        "def normalize(x):\n",
        "    n = np.zeros(x.shape)\n",
        "    s = x.std(axis = 0)\n",
        "    \n",
        "    for j in range(x.shape[1]):\n",
        "        if not s[j][0] == 0:\n",
        "            n[:,j,0] = (x[:,j,0] - x[:,j,0].mean())/s[j][0]\n",
        "    return n"
      ],
      "execution_count": null,
      "outputs": []
    },
    {
      "cell_type": "code",
      "metadata": {
        "id": "Cljn5oQznJyg"
      },
      "source": [
        "def perturbed_dataset(x, n, d, sigma, c):\n",
        "\n",
        "  noise = np.random.normal(loc=0.0, scale=sigma, size=(n,d,1))\n",
        "  out = x + noise\n",
        "\n",
        "  for i in range(1, c):\n",
        "    noise = np.random.normal(loc=0.0, scale=sigma, size=(n,d,1))\n",
        "    perturbed = x + noise\n",
        "    out = np.concatenate((out, perturbed), axis = 0)\n",
        "  return out"
      ],
      "execution_count": null,
      "outputs": []
    },
    {
      "cell_type": "code",
      "metadata": {
        "id": "Bhu9OI_blr_7"
      },
      "source": [
        "def perturbed_dataset_uniform(x, n, d, sigma, c):\n",
        "\n",
        "  noise = np.random.uniform(low = -sigma, high = sigma, size=(n,d,1))\n",
        "  out = x + noise\n",
        "\n",
        "  for i in range(1, c):\n",
        "    noise = np.random.uniform(low = -sigma, high = sigma, size=(n,d,1))\n",
        "    perturbed = x + noise\n",
        "    out = np.concatenate((out, perturbed), axis = 0)\n",
        "  return out"
      ],
      "execution_count": null,
      "outputs": []
    },
    {
      "cell_type": "code",
      "metadata": {
        "colab": {
          "base_uri": "https://localhost:8080/"
        },
        "id": "ijnGgY9yk4rn",
        "outputId": "09d0d4cc-3f52-4232-b063-6b2ac4565c8c"
      },
      "source": [
        "(x_train, y_train), (x_test, y_test)= mnist.load_data()"
      ],
      "execution_count": null,
      "outputs": [
        {
          "output_type": "stream",
          "name": "stdout",
          "text": [
            "Downloading data from https://storage.googleapis.com/tensorflow/tf-keras-datasets/mnist.npz\n",
            "11493376/11490434 [==============================] - 0s 0us/step\n",
            "11501568/11490434 [==============================] - 0s 0us/step\n"
          ]
        }
      ]
    },
    {
      "cell_type": "code",
      "metadata": {
        "id": "JPRR1MDak_av"
      },
      "source": [
        "x_train_flatten = x_train.reshape(x_train.shape[0], 784, 1)\n",
        "y_train_flatten = deepcopy(y_train)\n",
        "x_test_flatten = x_test.reshape(x_test.shape[0], 784, 1)\n",
        "y_test_flatten = deepcopy(y_test)"
      ],
      "execution_count": null,
      "outputs": []
    },
    {
      "cell_type": "code",
      "metadata": {
        "id": "75Se4ApKnYGc"
      },
      "source": [
        "x_train_normalized = normalize(x_train_flatten)\n",
        "x_test_normalized = normalize(x_test_flatten)"
      ],
      "execution_count": null,
      "outputs": []
    },
    {
      "cell_type": "code",
      "metadata": {
        "colab": {
          "base_uri": "https://localhost:8080/"
        },
        "id": "NRAT0C6uwRjX",
        "outputId": "66e21768-7946-45ef-835b-f4ac855eccd7"
      },
      "source": [
        "x_train_normalized.shape"
      ],
      "execution_count": null,
      "outputs": [
        {
          "output_type": "execute_result",
          "data": {
            "text/plain": [
              "(60000, 784, 1)"
            ]
          },
          "metadata": {},
          "execution_count": 12
        }
      ]
    },
    {
      "cell_type": "code",
      "metadata": {
        "id": "ZNjfWDslwTy4"
      },
      "source": [
        ""
      ],
      "execution_count": null,
      "outputs": []
    },
    {
      "cell_type": "markdown",
      "metadata": {
        "id": "7RKau1wV4XRD"
      },
      "source": [
        "Skip model1, model2"
      ]
    },
    {
      "cell_type": "code",
      "metadata": {
        "id": "rlKfG1C0nrv3"
      },
      "source": [
        "model = Sequential()\n",
        "model.add(Dense(100, input_dim=784, activation='relu'))\n",
        "model.add(Dense(10, activation='softmax'))\n",
        "\n",
        "model.compile(loss='sparse_categorical_crossentropy', optimizer='adam', metrics=['accuracy'])\n",
        "model.summary()\n",
        "\n",
        "model.fit(x_train_flatten, y_train,epochs=10,batch_size=32, validation_data = (x_test_flatten, y_test))"
      ],
      "execution_count": null,
      "outputs": []
    },
    {
      "cell_type": "code",
      "metadata": {
        "colab": {
          "base_uri": "https://localhost:8080/"
        },
        "id": "X3W37VMHuEx8",
        "outputId": "74e4ffec-a4f3-4222-bbab-346473a1c176"
      },
      "source": [
        "#test architecture\n",
        "scores = model.evaluate(x_test_flatten, y_test)\n",
        "\n",
        "print(\"\\n%s: %.2f%%\" % (model.metrics_names[1], scores[1]*100))"
      ],
      "execution_count": null,
      "outputs": [
        {
          "output_type": "stream",
          "name": "stdout",
          "text": [
            "313/313 [==============================] - 0s 1ms/step - loss: 0.2815 - accuracy: 0.9454\n",
            "\n",
            "accuracy: 94.54%\n"
          ]
        }
      ]
    },
    {
      "cell_type": "code",
      "metadata": {
        "id": "-UsNVP0OuBRK"
      },
      "source": [
        "model2 = Sequential()\n",
        "model2.add(Dense(100, input_dim=784, activation='relu'))\n",
        "model2.add(Dense(10, activation='softmax'))\n",
        "\n",
        "model2.compile(loss='sparse_categorical_crossentropy', optimizer='adam', metrics=['accuracy'])\n",
        "model2.summary()\n",
        "\n",
        "model2.fit(x_train_normalized, y_train,epochs=15,batch_size=64, validation_data = (x_test_normalized, y_test))"
      ],
      "execution_count": null,
      "outputs": []
    },
    {
      "cell_type": "markdown",
      "metadata": {
        "id": "kAZ5LTJOF5jq"
      },
      "source": [
        "This is the cool perturbed gaussian function"
      ]
    },
    {
      "cell_type": "code",
      "metadata": {
        "id": "sx05y5JKzpx_"
      },
      "source": [
        "x_train_perturbed_1 = perturbed_dataset(x_train_normalized, x_train_normalized.shape[0], x_train_normalized.shape[1], sigma = 0.2, c = 1)"
      ],
      "execution_count": null,
      "outputs": []
    },
    {
      "cell_type": "code",
      "metadata": {
        "id": "6L61ToR5zpon"
      },
      "source": [
        "x_train_perturbed_2 = perturbed_dataset(x_train_normalized, x_train_normalized.shape[0], x_train_normalized.shape[1], sigma = 5, c = 1)"
      ],
      "execution_count": null,
      "outputs": []
    },
    {
      "cell_type": "code",
      "metadata": {
        "id": "QZWju8qN0Twa"
      },
      "source": [
        "x_test_perturbed_1 = perturbed_dataset(x_test_normalized, x_test_normalized.shape[0], x_test_normalized.shape[1], sigma = 0.2, c = 1)"
      ],
      "execution_count": null,
      "outputs": []
    },
    {
      "cell_type": "code",
      "metadata": {
        "id": "Q2mP61do0Tpf"
      },
      "source": [
        "x_test_perturbed_2 = perturbed_dataset(x_test_normalized, x_test_normalized.shape[0], x_test_normalized.shape[1], sigma = 5, c = 1)"
      ],
      "execution_count": null,
      "outputs": []
    },
    {
      "cell_type": "markdown",
      "metadata": {
        "id": "y_nHkn6Q4yhl"
      },
      "source": [
        "Here are the uniform perturbations"
      ]
    },
    {
      "cell_type": "code",
      "metadata": {
        "id": "VB-8-ViC4hyD"
      },
      "source": [
        "x_train_perturbed_3 = perturbed_dataset_uniform(x_train_normalized, x_train_normalized.shape[0], x_train_normalized.shape[1], sigma = 0.2, c = 1)"
      ],
      "execution_count": null,
      "outputs": []
    },
    {
      "cell_type": "code",
      "metadata": {
        "id": "DYj9Caps4tJN"
      },
      "source": [
        "x_train_perturbed_4 = perturbed_dataset_uniform(x_train_normalized, x_train_normalized.shape[0], x_train_normalized.shape[1], sigma = 0.5, c = 1)"
      ],
      "execution_count": null,
      "outputs": []
    },
    {
      "cell_type": "code",
      "metadata": {
        "id": "ENg2molA44b8"
      },
      "source": [
        "x_test_perturbed_3 = perturbed_dataset_uniform(x_test_normalized, x_test_normalized.shape[0], x_test_normalized.shape[1], sigma = 0.2, c = 1)"
      ],
      "execution_count": null,
      "outputs": []
    },
    {
      "cell_type": "code",
      "metadata": {
        "id": "-MFBC03z5BcU"
      },
      "source": [
        "x_test_perturbed_4 = perturbed_dataset_uniform(x_test_normalized, x_test_normalized.shape[0], x_test_normalized.shape[1], sigma = 1.5, c = 1)"
      ],
      "execution_count": null,
      "outputs": []
    },
    {
      "cell_type": "code",
      "metadata": {
        "id": "cwes_oCA98Tk"
      },
      "source": [
        "x_test_normalized[2]"
      ],
      "execution_count": null,
      "outputs": []
    },
    {
      "cell_type": "code",
      "metadata": {
        "id": "bTsgx1r6_RK7"
      },
      "source": [
        ""
      ],
      "execution_count": null,
      "outputs": []
    },
    {
      "cell_type": "code",
      "metadata": {
        "id": "toUKzzdO_RFa"
      },
      "source": [
        "x_train_perturbed_10 = perturbed_dataset_uniform(x_train_normalized, x_train_normalized.shape[0], x_train_normalized.shape[1], sigma = 0.5, c = 1)"
      ],
      "execution_count": null,
      "outputs": []
    },
    {
      "cell_type": "code",
      "metadata": {
        "id": "2kY0tlCi_Q9w",
        "colab": {
          "base_uri": "https://localhost:8080/"
        },
        "outputId": "b3aaaa9f-73f1-4e44-c16f-287054573505"
      },
      "source": [
        "model10 = Sequential()\n",
        "model10.add(Dense(100, input_dim=784, activation='relu'))\n",
        "model10.add(Dense(10, activation='softmax'))\n",
        "\n",
        "model10.compile(loss='sparse_categorical_crossentropy', optimizer='adam', metrics=['accuracy'])\n",
        "model10.summary()\n",
        "\n",
        "model10.fit(x_train_perturbed_10, y_train,epochs=15,batch_size=64, validation_data = (x_test_normalized, y_test))"
      ],
      "execution_count": null,
      "outputs": [
        {
          "output_type": "stream",
          "name": "stdout",
          "text": [
            "Model: \"sequential_1\"\n",
            "_________________________________________________________________\n",
            " Layer (type)                Output Shape              Param #   \n",
            "=================================================================\n",
            " dense_2 (Dense)             (None, 100)               78500     \n",
            "                                                                 \n",
            " dense_3 (Dense)             (None, 10)                1010      \n",
            "                                                                 \n",
            "=================================================================\n",
            "Total params: 79,510\n",
            "Trainable params: 79,510\n",
            "Non-trainable params: 0\n",
            "_________________________________________________________________\n",
            "Epoch 1/15\n",
            "938/938 [==============================] - 4s 3ms/step - loss: 0.2848 - accuracy: 0.9176 - val_loss: 0.1540 - val_accuracy: 0.9563\n",
            "Epoch 2/15\n",
            "938/938 [==============================] - 3s 3ms/step - loss: 0.1167 - accuracy: 0.9653 - val_loss: 0.1320 - val_accuracy: 0.9674\n",
            "Epoch 3/15\n",
            "938/938 [==============================] - 3s 3ms/step - loss: 0.0708 - accuracy: 0.9794 - val_loss: 0.1331 - val_accuracy: 0.9673\n",
            "Epoch 4/15\n",
            "938/938 [==============================] - 3s 3ms/step - loss: 0.0464 - accuracy: 0.9868 - val_loss: 0.1275 - val_accuracy: 0.9710\n",
            "Epoch 5/15\n",
            "938/938 [==============================] - 3s 3ms/step - loss: 0.0272 - accuracy: 0.9930 - val_loss: 0.1346 - val_accuracy: 0.9707\n",
            "Epoch 6/15\n",
            "938/938 [==============================] - 3s 3ms/step - loss: 0.0212 - accuracy: 0.9946 - val_loss: 0.1469 - val_accuracy: 0.9701\n",
            "Epoch 7/15\n",
            "938/938 [==============================] - 3s 3ms/step - loss: 0.0148 - accuracy: 0.9965 - val_loss: 0.1501 - val_accuracy: 0.9708\n",
            "Epoch 8/15\n",
            "938/938 [==============================] - 3s 3ms/step - loss: 0.0162 - accuracy: 0.9958 - val_loss: 0.1691 - val_accuracy: 0.9684\n",
            "Epoch 9/15\n",
            "938/938 [==============================] - 3s 3ms/step - loss: 0.0108 - accuracy: 0.9973 - val_loss: 0.1585 - val_accuracy: 0.9722\n",
            "Epoch 10/15\n",
            "938/938 [==============================] - 3s 3ms/step - loss: 0.0061 - accuracy: 0.9989 - val_loss: 0.1664 - val_accuracy: 0.9731\n",
            "Epoch 11/15\n",
            "938/938 [==============================] - 3s 3ms/step - loss: 0.0100 - accuracy: 0.9971 - val_loss: 0.1947 - val_accuracy: 0.9697\n",
            "Epoch 12/15\n",
            "938/938 [==============================] - 3s 3ms/step - loss: 0.0145 - accuracy: 0.9961 - val_loss: 0.2099 - val_accuracy: 0.9707\n",
            "Epoch 13/15\n",
            "938/938 [==============================] - 3s 3ms/step - loss: 0.0093 - accuracy: 0.9979 - val_loss: 0.1979 - val_accuracy: 0.9721\n",
            "Epoch 14/15\n",
            "938/938 [==============================] - 3s 3ms/step - loss: 0.0084 - accuracy: 0.9983 - val_loss: 0.2110 - val_accuracy: 0.9696\n",
            "Epoch 15/15\n",
            "938/938 [==============================] - 3s 3ms/step - loss: 0.0051 - accuracy: 0.9990 - val_loss: 0.2180 - val_accuracy: 0.9719\n"
          ]
        },
        {
          "output_type": "execute_result",
          "data": {
            "text/plain": [
              "<keras.callbacks.History at 0x7ff5bb4e9590>"
            ]
          },
          "metadata": {},
          "execution_count": 63
        }
      ]
    },
    {
      "cell_type": "code",
      "metadata": {
        "id": "g8T5xKw_f6wL"
      },
      "source": [
        "x_train_perturbed_9 = perturbed_dataset_uniform(x_train_normalized, x_train_normalized.shape[0], x_train_normalized.shape[1], sigma = 2, c = 1)"
      ],
      "execution_count": null,
      "outputs": []
    },
    {
      "cell_type": "code",
      "metadata": {
        "id": "w1j_qkQs70BW",
        "colab": {
          "base_uri": "https://localhost:8080/"
        },
        "outputId": "0b269303-5c5f-4f4e-cdcd-04aec59faefa"
      },
      "source": [
        "model9 = Sequential()\n",
        "model9.add(Dense(100, input_dim=784, activation='relu'))\n",
        "model9.add(Dense(10, activation='softmax'))\n",
        "\n",
        "model9.compile(loss='sparse_categorical_crossentropy', optimizer='adam', metrics=['accuracy'])\n",
        "model9.summary()\n",
        "\n",
        "model9.fit(x_train_perturbed_9, y_train,epochs=15,batch_size=64, validation_data = (x_test_normalized, y_test))"
      ],
      "execution_count": null,
      "outputs": [
        {
          "output_type": "stream",
          "name": "stdout",
          "text": [
            "Model: \"sequential_2\"\n",
            "_________________________________________________________________\n",
            " Layer (type)                Output Shape              Param #   \n",
            "=================================================================\n",
            " dense_4 (Dense)             (None, 100)               78500     \n",
            "                                                                 \n",
            " dense_5 (Dense)             (None, 10)                1010      \n",
            "                                                                 \n",
            "=================================================================\n",
            "Total params: 79,510\n",
            "Trainable params: 79,510\n",
            "Non-trainable params: 0\n",
            "_________________________________________________________________\n",
            "Epoch 1/15\n",
            "938/938 [==============================] - 3s 3ms/step - loss: 0.5201 - accuracy: 0.8401 - val_loss: 0.1991 - val_accuracy: 0.9434\n",
            "Epoch 2/15\n",
            "938/938 [==============================] - 3s 3ms/step - loss: 0.2255 - accuracy: 0.9292 - val_loss: 0.1612 - val_accuracy: 0.9530\n",
            "Epoch 3/15\n",
            "938/938 [==============================] - 3s 3ms/step - loss: 0.1428 - accuracy: 0.9557 - val_loss: 0.1522 - val_accuracy: 0.9585\n",
            "Epoch 4/15\n",
            "938/938 [==============================] - 3s 3ms/step - loss: 0.0902 - accuracy: 0.9741 - val_loss: 0.1510 - val_accuracy: 0.9616\n",
            "Epoch 5/15\n",
            "938/938 [==============================] - 3s 3ms/step - loss: 0.0558 - accuracy: 0.9851 - val_loss: 0.1609 - val_accuracy: 0.9612\n",
            "Epoch 6/15\n",
            "938/938 [==============================] - 3s 3ms/step - loss: 0.0344 - accuracy: 0.9916 - val_loss: 0.1744 - val_accuracy: 0.9619\n",
            "Epoch 7/15\n",
            "938/938 [==============================] - 3s 3ms/step - loss: 0.0224 - accuracy: 0.9947 - val_loss: 0.1793 - val_accuracy: 0.9648\n",
            "Epoch 8/15\n",
            "938/938 [==============================] - 3s 3ms/step - loss: 0.0213 - accuracy: 0.9938 - val_loss: 0.2032 - val_accuracy: 0.9611\n",
            "Epoch 9/15\n",
            "938/938 [==============================] - 3s 3ms/step - loss: 0.0264 - accuracy: 0.9919 - val_loss: 0.2075 - val_accuracy: 0.9621\n",
            "Epoch 10/15\n",
            "938/938 [==============================] - 3s 3ms/step - loss: 0.0196 - accuracy: 0.9939 - val_loss: 0.2275 - val_accuracy: 0.9638\n",
            "Epoch 11/15\n",
            "938/938 [==============================] - 3s 3ms/step - loss: 0.0156 - accuracy: 0.9950 - val_loss: 0.2282 - val_accuracy: 0.9635\n",
            "Epoch 12/15\n",
            "938/938 [==============================] - 3s 3ms/step - loss: 0.0122 - accuracy: 0.9959 - val_loss: 0.2403 - val_accuracy: 0.9615\n",
            "Epoch 13/15\n",
            "938/938 [==============================] - 3s 3ms/step - loss: 0.0183 - accuracy: 0.9946 - val_loss: 0.2646 - val_accuracy: 0.9612\n",
            "Epoch 14/15\n",
            "938/938 [==============================] - 3s 3ms/step - loss: 0.0153 - accuracy: 0.9952 - val_loss: 0.2579 - val_accuracy: 0.9648\n",
            "Epoch 15/15\n",
            "938/938 [==============================] - 3s 3ms/step - loss: 0.0117 - accuracy: 0.9960 - val_loss: 0.2709 - val_accuracy: 0.9634\n"
          ]
        },
        {
          "output_type": "execute_result",
          "data": {
            "text/plain": [
              "<keras.callbacks.History at 0x7ff5bfb10110>"
            ]
          },
          "metadata": {},
          "execution_count": 65
        }
      ]
    },
    {
      "cell_type": "code",
      "metadata": {
        "id": "bhyGErBM76CM"
      },
      "source": [
        ""
      ],
      "execution_count": null,
      "outputs": []
    },
    {
      "cell_type": "code",
      "metadata": {
        "id": "UsrJfltF4SoE"
      },
      "source": [
        "x_train_perturbed_8 = perturbed_dataset_uniform(x_train_normalized, x_train_normalized.shape[0], x_train_normalized.shape[1], sigma = 1, c = 1)"
      ],
      "execution_count": null,
      "outputs": []
    },
    {
      "cell_type": "code",
      "metadata": {
        "id": "kZKrbZGX4SXg",
        "colab": {
          "base_uri": "https://localhost:8080/"
        },
        "outputId": "3df88745-8338-4440-aa8f-28b90963e5a6"
      },
      "source": [
        "model8 = Sequential()\n",
        "model8.add(Dense(100, input_dim=784, activation='relu'))\n",
        "model8.add(Dense(10, activation='softmax'))\n",
        "\n",
        "model8.compile(loss='sparse_categorical_crossentropy', optimizer='adam', metrics=['accuracy'])\n",
        "model8.summary()\n",
        "\n",
        "model8.fit(x_train_perturbed_8, y_train,epochs=15,batch_size=64, validation_data = (x_test_normalized, y_test))"
      ],
      "execution_count": null,
      "outputs": [
        {
          "output_type": "stream",
          "name": "stdout",
          "text": [
            "Model: \"sequential_3\"\n",
            "_________________________________________________________________\n",
            " Layer (type)                Output Shape              Param #   \n",
            "=================================================================\n",
            " dense_6 (Dense)             (None, 100)               78500     \n",
            "                                                                 \n",
            " dense_7 (Dense)             (None, 10)                1010      \n",
            "                                                                 \n",
            "=================================================================\n",
            "Total params: 79,510\n",
            "Trainable params: 79,510\n",
            "Non-trainable params: 0\n",
            "_________________________________________________________________\n",
            "Epoch 1/15\n",
            "938/938 [==============================] - 4s 3ms/step - loss: 0.3331 - accuracy: 0.9008 - val_loss: 0.1543 - val_accuracy: 0.9575\n",
            "Epoch 2/15\n",
            "938/938 [==============================] - 3s 3ms/step - loss: 0.1304 - accuracy: 0.9621 - val_loss: 0.1341 - val_accuracy: 0.9630\n",
            "Epoch 3/15\n",
            "938/938 [==============================] - 3s 3ms/step - loss: 0.0753 - accuracy: 0.9783 - val_loss: 0.1182 - val_accuracy: 0.9680\n",
            "Epoch 4/15\n",
            "938/938 [==============================] - 3s 3ms/step - loss: 0.0460 - accuracy: 0.9876 - val_loss: 0.1295 - val_accuracy: 0.9677\n",
            "Epoch 5/15\n",
            "938/938 [==============================] - 3s 3ms/step - loss: 0.0281 - accuracy: 0.9931 - val_loss: 0.1306 - val_accuracy: 0.9710\n",
            "Epoch 6/15\n",
            "938/938 [==============================] - 3s 3ms/step - loss: 0.0183 - accuracy: 0.9958 - val_loss: 0.1448 - val_accuracy: 0.9675\n",
            "Epoch 7/15\n",
            "938/938 [==============================] - 3s 3ms/step - loss: 0.0147 - accuracy: 0.9965 - val_loss: 0.1491 - val_accuracy: 0.9705\n",
            "Epoch 8/15\n",
            "938/938 [==============================] - 3s 3ms/step - loss: 0.0097 - accuracy: 0.9983 - val_loss: 0.1569 - val_accuracy: 0.9695\n",
            "Epoch 9/15\n",
            "938/938 [==============================] - 3s 3ms/step - loss: 0.0144 - accuracy: 0.9967 - val_loss: 0.1757 - val_accuracy: 0.9686\n",
            "Epoch 10/15\n",
            "938/938 [==============================] - 3s 3ms/step - loss: 0.0175 - accuracy: 0.9952 - val_loss: 0.1916 - val_accuracy: 0.9707\n",
            "Epoch 11/15\n",
            "938/938 [==============================] - 3s 3ms/step - loss: 0.0095 - accuracy: 0.9979 - val_loss: 0.1767 - val_accuracy: 0.9730\n",
            "Epoch 12/15\n",
            "938/938 [==============================] - 3s 3ms/step - loss: 0.0059 - accuracy: 0.9991 - val_loss: 0.1831 - val_accuracy: 0.9728\n",
            "Epoch 13/15\n",
            "938/938 [==============================] - 3s 3ms/step - loss: 0.0081 - accuracy: 0.9978 - val_loss: 0.2265 - val_accuracy: 0.9687\n",
            "Epoch 14/15\n",
            "938/938 [==============================] - 3s 3ms/step - loss: 0.0116 - accuracy: 0.9966 - val_loss: 0.2143 - val_accuracy: 0.9703\n",
            "Epoch 15/15\n",
            "938/938 [==============================] - 3s 3ms/step - loss: 0.0090 - accuracy: 0.9978 - val_loss: 0.2132 - val_accuracy: 0.9709\n"
          ]
        },
        {
          "output_type": "execute_result",
          "data": {
            "text/plain": [
              "<keras.callbacks.History at 0x7ff5bfb10390>"
            ]
          },
          "metadata": {},
          "execution_count": 67
        }
      ]
    },
    {
      "cell_type": "code",
      "metadata": {
        "id": "g2yiH0WgnG6n"
      },
      "source": [
        "x_train_perturbed_7 = perturbed_dataset_uniform(x_train_normalized, x_train_normalized.shape[0], x_train_normalized.shape[1], sigma = 10, c = 1)"
      ],
      "execution_count": null,
      "outputs": []
    },
    {
      "cell_type": "code",
      "metadata": {
        "id": "EXzHJjWjnQSh",
        "colab": {
          "base_uri": "https://localhost:8080/"
        },
        "outputId": "3510f336-1911-4897-87a4-cbe45b7c2b5c"
      },
      "source": [
        "model7 = Sequential()\n",
        "model7.add(Dense(100, input_dim=784, activation='relu'))\n",
        "model7.add(Dense(10, activation='softmax'))\n",
        "\n",
        "model7.compile(loss='sparse_categorical_crossentropy', optimizer='adam', metrics=['accuracy'])\n",
        "model7.summary()\n",
        "\n",
        "model7.fit(x_train_perturbed_7, y_train,epochs=15,batch_size=64, validation_data = (x_test_normalized, y_test))"
      ],
      "execution_count": null,
      "outputs": [
        {
          "output_type": "stream",
          "name": "stdout",
          "text": [
            "Model: \"sequential_4\"\n",
            "_________________________________________________________________\n",
            " Layer (type)                Output Shape              Param #   \n",
            "=================================================================\n",
            " dense_8 (Dense)             (None, 100)               78500     \n",
            "                                                                 \n",
            " dense_9 (Dense)             (None, 10)                1010      \n",
            "                                                                 \n",
            "=================================================================\n",
            "Total params: 79,510\n",
            "Trainable params: 79,510\n",
            "Non-trainable params: 0\n",
            "_________________________________________________________________\n",
            "Epoch 1/15\n",
            "938/938 [==============================] - 3s 3ms/step - loss: 3.1550 - accuracy: 0.3211 - val_loss: 1.0927 - val_accuracy: 0.7780\n",
            "Epoch 2/15\n",
            "938/938 [==============================] - 3s 3ms/step - loss: 1.5524 - accuracy: 0.4733 - val_loss: 1.0612 - val_accuracy: 0.8012\n",
            "Epoch 3/15\n",
            "938/938 [==============================] - 3s 3ms/step - loss: 1.4559 - accuracy: 0.5047 - val_loss: 1.0125 - val_accuracy: 0.8039\n",
            "Epoch 4/15\n",
            "938/938 [==============================] - 3s 3ms/step - loss: 1.3991 - accuracy: 0.5207 - val_loss: 0.9991 - val_accuracy: 0.8151\n",
            "Epoch 5/15\n",
            "938/938 [==============================] - 3s 3ms/step - loss: 1.3380 - accuracy: 0.5436 - val_loss: 0.9806 - val_accuracy: 0.8056\n",
            "Epoch 6/15\n",
            "938/938 [==============================] - 3s 3ms/step - loss: 1.2742 - accuracy: 0.5638 - val_loss: 0.9527 - val_accuracy: 0.8213\n",
            "Epoch 7/15\n",
            "938/938 [==============================] - 3s 3ms/step - loss: 1.2101 - accuracy: 0.5847 - val_loss: 0.9182 - val_accuracy: 0.8173\n",
            "Epoch 8/15\n",
            "938/938 [==============================] - 3s 3ms/step - loss: 1.1447 - accuracy: 0.6097 - val_loss: 0.8999 - val_accuracy: 0.8239\n",
            "Epoch 9/15\n",
            "938/938 [==============================] - 3s 3ms/step - loss: 1.0871 - accuracy: 0.6278 - val_loss: 0.8686 - val_accuracy: 0.8171\n",
            "Epoch 10/15\n",
            "938/938 [==============================] - 3s 3ms/step - loss: 1.0332 - accuracy: 0.6458 - val_loss: 0.8438 - val_accuracy: 0.8293\n",
            "Epoch 11/15\n",
            "938/938 [==============================] - 3s 3ms/step - loss: 0.9787 - accuracy: 0.6647 - val_loss: 0.8121 - val_accuracy: 0.8258\n",
            "Epoch 12/15\n",
            "938/938 [==============================] - 3s 3ms/step - loss: 0.9415 - accuracy: 0.6781 - val_loss: 0.7957 - val_accuracy: 0.8310\n",
            "Epoch 13/15\n",
            "938/938 [==============================] - 3s 3ms/step - loss: 0.8949 - accuracy: 0.6941 - val_loss: 0.7747 - val_accuracy: 0.8247\n",
            "Epoch 14/15\n",
            "938/938 [==============================] - 3s 3ms/step - loss: 0.8622 - accuracy: 0.7034 - val_loss: 0.7633 - val_accuracy: 0.8227\n",
            "Epoch 15/15\n",
            "938/938 [==============================] - 3s 3ms/step - loss: 0.8284 - accuracy: 0.7148 - val_loss: 0.7561 - val_accuracy: 0.8147\n"
          ]
        },
        {
          "output_type": "execute_result",
          "data": {
            "text/plain": [
              "<keras.callbacks.History at 0x7ff5c49f1ad0>"
            ]
          },
          "metadata": {},
          "execution_count": 69
        }
      ]
    },
    {
      "cell_type": "code",
      "metadata": {
        "id": "w8eGhvcRf6en"
      },
      "source": [
        "x_train_perturbed_2 = perturbed_dataset(x_train_normalized, x_train_normalized.shape[0], x_train_normalized.shape[1], sigma = 1.5, c = 1)"
      ],
      "execution_count": null,
      "outputs": []
    },
    {
      "cell_type": "code",
      "metadata": {
        "id": "LgZ5_FPDgDvR",
        "colab": {
          "base_uri": "https://localhost:8080/"
        },
        "outputId": "e076a607-a66e-4c4d-8118-239c2bdb9edc"
      },
      "source": [
        "model2 = Sequential()\n",
        "model2.add(Dense(100, input_dim=784, activation='relu'))\n",
        "model2.add(Dense(10, activation='softmax'))\n",
        "\n",
        "model2.compile(loss='sparse_categorical_crossentropy', optimizer='adam', metrics=['accuracy'])\n",
        "model2.summary()\n",
        "\n",
        "model2.fit(x_train_perturbed_2, y_train,epochs=15,batch_size=64, validation_data = (x_test_normalized, y_test))"
      ],
      "execution_count": null,
      "outputs": [
        {
          "output_type": "stream",
          "name": "stdout",
          "text": [
            "Model: \"sequential_5\"\n",
            "_________________________________________________________________\n",
            " Layer (type)                Output Shape              Param #   \n",
            "=================================================================\n",
            " dense_10 (Dense)            (None, 100)               78500     \n",
            "                                                                 \n",
            " dense_11 (Dense)            (None, 10)                1010      \n",
            "                                                                 \n",
            "=================================================================\n",
            "Total params: 79,510\n",
            "Trainable params: 79,510\n",
            "Non-trainable params: 0\n",
            "_________________________________________________________________\n",
            "Epoch 1/15\n",
            "938/938 [==============================] - 4s 3ms/step - loss: 0.6718 - accuracy: 0.7907 - val_loss: 0.2288 - val_accuracy: 0.9324\n",
            "Epoch 2/15\n",
            "938/938 [==============================] - 3s 3ms/step - loss: 0.3181 - accuracy: 0.8997 - val_loss: 0.1845 - val_accuracy: 0.9430\n",
            "Epoch 3/15\n",
            "938/938 [==============================] - 3s 3ms/step - loss: 0.2148 - accuracy: 0.9317 - val_loss: 0.1716 - val_accuracy: 0.9471\n",
            "Epoch 4/15\n",
            "938/938 [==============================] - 3s 3ms/step - loss: 0.1491 - accuracy: 0.9545 - val_loss: 0.1714 - val_accuracy: 0.9509\n",
            "Epoch 5/15\n",
            "938/938 [==============================] - 3s 3ms/step - loss: 0.0960 - accuracy: 0.9708 - val_loss: 0.1779 - val_accuracy: 0.9526\n",
            "Epoch 6/15\n",
            "938/938 [==============================] - 3s 3ms/step - loss: 0.0661 - accuracy: 0.9801 - val_loss: 0.1801 - val_accuracy: 0.9567\n",
            "Epoch 7/15\n",
            "938/938 [==============================] - 3s 3ms/step - loss: 0.0464 - accuracy: 0.9863 - val_loss: 0.1937 - val_accuracy: 0.9571\n",
            "Epoch 8/15\n",
            "938/938 [==============================] - 3s 3ms/step - loss: 0.0348 - accuracy: 0.9896 - val_loss: 0.2081 - val_accuracy: 0.9534\n",
            "Epoch 9/15\n",
            "938/938 [==============================] - 3s 3ms/step - loss: 0.0381 - accuracy: 0.9875 - val_loss: 0.2174 - val_accuracy: 0.9569\n",
            "Epoch 10/15\n",
            "938/938 [==============================] - 3s 3ms/step - loss: 0.0360 - accuracy: 0.9889 - val_loss: 0.2565 - val_accuracy: 0.9528\n",
            "Epoch 11/15\n",
            "938/938 [==============================] - 3s 3ms/step - loss: 0.0256 - accuracy: 0.9916 - val_loss: 0.2458 - val_accuracy: 0.9567\n",
            "Epoch 12/15\n",
            "938/938 [==============================] - 3s 3ms/step - loss: 0.0189 - accuracy: 0.9943 - val_loss: 0.2514 - val_accuracy: 0.9567\n",
            "Epoch 13/15\n",
            "938/938 [==============================] - 3s 4ms/step - loss: 0.0275 - accuracy: 0.9913 - val_loss: 0.2772 - val_accuracy: 0.9557\n",
            "Epoch 14/15\n",
            "938/938 [==============================] - 3s 3ms/step - loss: 0.0310 - accuracy: 0.9897 - val_loss: 0.2876 - val_accuracy: 0.9557\n",
            "Epoch 15/15\n",
            "938/938 [==============================] - 3s 3ms/step - loss: 0.0174 - accuracy: 0.9941 - val_loss: 0.2856 - val_accuracy: 0.9571\n"
          ]
        },
        {
          "output_type": "execute_result",
          "data": {
            "text/plain": [
              "<keras.callbacks.History at 0x7ff5c45728d0>"
            ]
          },
          "metadata": {},
          "execution_count": 71
        }
      ]
    },
    {
      "cell_type": "code",
      "metadata": {
        "id": "oe2z1glAch9L"
      },
      "source": [
        "x_train_perturbed_3 = perturbed_dataset_uniform(x_train_normalized, x_train_normalized.shape[0], x_train_normalized.shape[1], sigma = 5, c = 1)"
      ],
      "execution_count": null,
      "outputs": []
    },
    {
      "cell_type": "code",
      "metadata": {
        "id": "gv6GX_H7ch0T",
        "colab": {
          "base_uri": "https://localhost:8080/"
        },
        "outputId": "f95b300a-7e07-4318-b1eb-dfa8937c639c"
      },
      "source": [
        "model3 = Sequential()\n",
        "model3.add(Dense(100, input_dim=784, activation='relu'))\n",
        "model3.add(Dense(10, activation='softmax'))\n",
        "\n",
        "model3.compile(loss='sparse_categorical_crossentropy', optimizer='adam', metrics=['accuracy'])\n",
        "model3.summary()\n",
        "\n",
        "model3.fit(x_train_perturbed_3, y_train,epochs=15,batch_size=64, validation_data = (x_test_normalized, y_test))"
      ],
      "execution_count": null,
      "outputs": [
        {
          "output_type": "stream",
          "name": "stdout",
          "text": [
            "Model: \"sequential_6\"\n",
            "_________________________________________________________________\n",
            " Layer (type)                Output Shape              Param #   \n",
            "=================================================================\n",
            " dense_12 (Dense)            (None, 100)               78500     \n",
            "                                                                 \n",
            " dense_13 (Dense)            (None, 10)                1010      \n",
            "                                                                 \n",
            "=================================================================\n",
            "Total params: 79,510\n",
            "Trainable params: 79,510\n",
            "Non-trainable params: 0\n",
            "_________________________________________________________________\n",
            "Epoch 1/15\n",
            "938/938 [==============================] - 4s 3ms/step - loss: 1.4231 - accuracy: 0.5888 - val_loss: 0.4559 - val_accuracy: 0.8729\n",
            "Epoch 2/15\n",
            "938/938 [==============================] - 3s 3ms/step - loss: 0.7998 - accuracy: 0.7351 - val_loss: 0.4012 - val_accuracy: 0.8881\n",
            "Epoch 3/15\n",
            "938/938 [==============================] - 3s 3ms/step - loss: 0.6650 - accuracy: 0.7768 - val_loss: 0.3515 - val_accuracy: 0.8978\n",
            "Epoch 4/15\n",
            "938/938 [==============================] - 3s 3ms/step - loss: 0.5664 - accuracy: 0.8084 - val_loss: 0.3258 - val_accuracy: 0.9022\n",
            "Epoch 5/15\n",
            "938/938 [==============================] - 3s 3ms/step - loss: 0.4828 - accuracy: 0.8360 - val_loss: 0.3147 - val_accuracy: 0.9065\n",
            "Epoch 6/15\n",
            "938/938 [==============================] - 3s 3ms/step - loss: 0.4078 - accuracy: 0.8610 - val_loss: 0.2994 - val_accuracy: 0.9095\n",
            "Epoch 7/15\n",
            "938/938 [==============================] - 3s 3ms/step - loss: 0.3428 - accuracy: 0.8826 - val_loss: 0.2846 - val_accuracy: 0.9163\n",
            "Epoch 8/15\n",
            "938/938 [==============================] - 3s 3ms/step - loss: 0.2870 - accuracy: 0.9007 - val_loss: 0.3079 - val_accuracy: 0.9134\n",
            "Epoch 9/15\n",
            "938/938 [==============================] - 3s 3ms/step - loss: 0.2421 - accuracy: 0.9153 - val_loss: 0.3343 - val_accuracy: 0.9089\n",
            "Epoch 10/15\n",
            "938/938 [==============================] - 3s 3ms/step - loss: 0.2010 - accuracy: 0.9296 - val_loss: 0.3350 - val_accuracy: 0.9126\n",
            "Epoch 11/15\n",
            "938/938 [==============================] - 3s 3ms/step - loss: 0.1720 - accuracy: 0.9392 - val_loss: 0.3452 - val_accuracy: 0.9160\n",
            "Epoch 12/15\n",
            "938/938 [==============================] - 3s 3ms/step - loss: 0.1511 - accuracy: 0.9462 - val_loss: 0.3789 - val_accuracy: 0.9097\n",
            "Epoch 13/15\n",
            "938/938 [==============================] - 3s 3ms/step - loss: 0.1321 - accuracy: 0.9529 - val_loss: 0.3955 - val_accuracy: 0.9115\n",
            "Epoch 14/15\n",
            "938/938 [==============================] - 3s 3ms/step - loss: 0.1176 - accuracy: 0.9586 - val_loss: 0.4093 - val_accuracy: 0.9123\n",
            "Epoch 15/15\n",
            "938/938 [==============================] - 3s 3ms/step - loss: 0.1134 - accuracy: 0.9592 - val_loss: 0.4085 - val_accuracy: 0.9158\n"
          ]
        },
        {
          "output_type": "execute_result",
          "data": {
            "text/plain": [
              "<keras.callbacks.History at 0x7ff5c4a11d90>"
            ]
          },
          "metadata": {},
          "execution_count": 73
        }
      ]
    },
    {
      "cell_type": "code",
      "metadata": {
        "id": "K3pF2ukAaRaj",
        "colab": {
          "base_uri": "https://localhost:8080/"
        },
        "outputId": "98fa5b42-5f01-46ef-97c2-85a1da4f5874"
      },
      "source": [
        "model4 = Sequential()\n",
        "model4.add(Dense(100, input_dim=784, activation='relu'))\n",
        "model4.add(Dense(10, activation='softmax'))\n",
        "\n",
        "model4.compile(loss='sparse_categorical_crossentropy', optimizer='adam', metrics=['accuracy'])\n",
        "model4.summary()\n",
        "\n",
        "model4.fit(x_train_perturbed_2, y_train,epochs=15,batch_size=64, validation_data = (x_test_normalized, y_test))"
      ],
      "execution_count": null,
      "outputs": [
        {
          "output_type": "stream",
          "name": "stdout",
          "text": [
            "Model: \"sequential_7\"\n",
            "_________________________________________________________________\n",
            " Layer (type)                Output Shape              Param #   \n",
            "=================================================================\n",
            " dense_14 (Dense)            (None, 100)               78500     \n",
            "                                                                 \n",
            " dense_15 (Dense)            (None, 10)                1010      \n",
            "                                                                 \n",
            "=================================================================\n",
            "Total params: 79,510\n",
            "Trainable params: 79,510\n",
            "Non-trainable params: 0\n",
            "_________________________________________________________________\n",
            "Epoch 1/15\n",
            "938/938 [==============================] - 4s 3ms/step - loss: 0.6749 - accuracy: 0.7900 - val_loss: 0.2439 - val_accuracy: 0.9257\n",
            "Epoch 2/15\n",
            "938/938 [==============================] - 3s 3ms/step - loss: 0.3198 - accuracy: 0.8985 - val_loss: 0.1945 - val_accuracy: 0.9399\n",
            "Epoch 3/15\n",
            "938/938 [==============================] - 3s 3ms/step - loss: 0.2130 - accuracy: 0.9328 - val_loss: 0.1682 - val_accuracy: 0.9517\n",
            "Epoch 4/15\n",
            "938/938 [==============================] - 3s 3ms/step - loss: 0.1423 - accuracy: 0.9549 - val_loss: 0.1784 - val_accuracy: 0.9503\n",
            "Epoch 5/15\n",
            "938/938 [==============================] - 3s 3ms/step - loss: 0.0959 - accuracy: 0.9712 - val_loss: 0.1784 - val_accuracy: 0.9537\n",
            "Epoch 6/15\n",
            "938/938 [==============================] - 3s 3ms/step - loss: 0.0643 - accuracy: 0.9814 - val_loss: 0.1884 - val_accuracy: 0.9561\n",
            "Epoch 7/15\n",
            "938/938 [==============================] - 3s 3ms/step - loss: 0.0430 - accuracy: 0.9880 - val_loss: 0.1892 - val_accuracy: 0.9562\n",
            "Epoch 8/15\n",
            "938/938 [==============================] - 3s 3ms/step - loss: 0.0327 - accuracy: 0.9903 - val_loss: 0.2071 - val_accuracy: 0.9575\n",
            "Epoch 9/15\n",
            "938/938 [==============================] - 3s 3ms/step - loss: 0.0322 - accuracy: 0.9898 - val_loss: 0.2237 - val_accuracy: 0.9542\n",
            "Epoch 10/15\n",
            "938/938 [==============================] - 3s 3ms/step - loss: 0.0351 - accuracy: 0.9886 - val_loss: 0.2433 - val_accuracy: 0.9562\n",
            "Epoch 11/15\n",
            "938/938 [==============================] - 3s 3ms/step - loss: 0.0301 - accuracy: 0.9904 - val_loss: 0.2437 - val_accuracy: 0.9570\n",
            "Epoch 12/15\n",
            "938/938 [==============================] - 3s 3ms/step - loss: 0.0214 - accuracy: 0.9936 - val_loss: 0.2558 - val_accuracy: 0.9572\n",
            "Epoch 13/15\n",
            "938/938 [==============================] - 3s 3ms/step - loss: 0.0185 - accuracy: 0.9941 - val_loss: 0.2683 - val_accuracy: 0.9555\n",
            "Epoch 14/15\n",
            "938/938 [==============================] - 3s 3ms/step - loss: 0.0239 - accuracy: 0.9915 - val_loss: 0.2829 - val_accuracy: 0.9570\n",
            "Epoch 15/15\n",
            "938/938 [==============================] - 3s 3ms/step - loss: 0.0242 - accuracy: 0.9915 - val_loss: 0.2937 - val_accuracy: 0.9567\n"
          ]
        },
        {
          "output_type": "execute_result",
          "data": {
            "text/plain": [
              "<keras.callbacks.History at 0x7ff5c47d2790>"
            ]
          },
          "metadata": {},
          "execution_count": 74
        }
      ]
    },
    {
      "cell_type": "code",
      "metadata": {
        "id": "NAakAvBSYYJB",
        "colab": {
          "base_uri": "https://localhost:8080/"
        },
        "outputId": "e14e5544-8d65-4f64-b8c1-246ec109f8e3"
      },
      "source": [
        "model5 = Sequential()\n",
        "model5.add(Dense(100, input_dim=784, activation='relu'))\n",
        "model5.add(Dense(10, activation='softmax'))\n",
        "\n",
        "model5.compile(loss='sparse_categorical_crossentropy', optimizer='adam', metrics=['accuracy'])\n",
        "model5.summary()\n",
        "\n",
        "model5.fit(x_train_perturbed_1, y_train,epochs=15,batch_size=64)"
      ],
      "execution_count": null,
      "outputs": [
        {
          "output_type": "stream",
          "name": "stdout",
          "text": [
            "Model: \"sequential_8\"\n",
            "_________________________________________________________________\n",
            " Layer (type)                Output Shape              Param #   \n",
            "=================================================================\n",
            " dense_16 (Dense)            (None, 100)               78500     \n",
            "                                                                 \n",
            " dense_17 (Dense)            (None, 10)                1010      \n",
            "                                                                 \n",
            "=================================================================\n",
            "Total params: 79,510\n",
            "Trainable params: 79,510\n",
            "Non-trainable params: 0\n",
            "_________________________________________________________________\n",
            "Epoch 1/15\n",
            "938/938 [==============================] - 3s 3ms/step - loss: 0.2715 - accuracy: 0.9214\n",
            "Epoch 2/15\n",
            "938/938 [==============================] - 3s 3ms/step - loss: 0.1114 - accuracy: 0.9668\n",
            "Epoch 3/15\n",
            "938/938 [==============================] - 3s 3ms/step - loss: 0.0716 - accuracy: 0.9788\n",
            "Epoch 4/15\n",
            "938/938 [==============================] - 3s 3ms/step - loss: 0.0486 - accuracy: 0.9858\n",
            "Epoch 5/15\n",
            "938/938 [==============================] - 3s 3ms/step - loss: 0.0342 - accuracy: 0.9906\n",
            "Epoch 6/15\n",
            "938/938 [==============================] - 3s 3ms/step - loss: 0.0211 - accuracy: 0.9941\n",
            "Epoch 7/15\n",
            "938/938 [==============================] - 3s 3ms/step - loss: 0.0180 - accuracy: 0.9957\n",
            "Epoch 8/15\n",
            "938/938 [==============================] - 3s 3ms/step - loss: 0.0156 - accuracy: 0.9962\n",
            "Epoch 9/15\n",
            "938/938 [==============================] - 3s 3ms/step - loss: 0.0116 - accuracy: 0.9970\n",
            "Epoch 10/15\n",
            "938/938 [==============================] - 3s 3ms/step - loss: 0.0092 - accuracy: 0.9976\n",
            "Epoch 11/15\n",
            "938/938 [==============================] - 3s 3ms/step - loss: 0.0091 - accuracy: 0.9975\n",
            "Epoch 12/15\n",
            "938/938 [==============================] - 3s 3ms/step - loss: 0.0097 - accuracy: 0.9977\n",
            "Epoch 13/15\n",
            "938/938 [==============================] - 3s 3ms/step - loss: 0.0102 - accuracy: 0.9975\n",
            "Epoch 14/15\n",
            "938/938 [==============================] - 3s 3ms/step - loss: 0.0106 - accuracy: 0.9977\n",
            "Epoch 15/15\n",
            "938/938 [==============================] - 3s 3ms/step - loss: 0.0081 - accuracy: 0.9978\n"
          ]
        },
        {
          "output_type": "execute_result",
          "data": {
            "text/plain": [
              "<keras.callbacks.History at 0x7ff5c407c890>"
            ]
          },
          "metadata": {},
          "execution_count": 75
        }
      ]
    },
    {
      "cell_type": "code",
      "metadata": {
        "id": "Rc88JJjH8S-_",
        "colab": {
          "base_uri": "https://localhost:8080/"
        },
        "outputId": "d8bac16c-589c-41e5-f87d-aa1e52fde4a3"
      },
      "source": [
        "model6 = Sequential()\n",
        "model6.add(Dense(100, input_dim=784, activation='relu'))\n",
        "model6.add(Dense(10, activation='softmax'))\n",
        "\n",
        "model6.compile(loss='sparse_categorical_crossentropy', optimizer='adam', metrics=['accuracy'])\n",
        "model6.summary()\n",
        "\n",
        "model6.fit(x_train_normalized, y_train,epochs=15,batch_size=64, validation_data = (x_test_normalized, y_test))"
      ],
      "execution_count": null,
      "outputs": [
        {
          "output_type": "stream",
          "name": "stdout",
          "text": [
            "Model: \"sequential_9\"\n",
            "_________________________________________________________________\n",
            " Layer (type)                Output Shape              Param #   \n",
            "=================================================================\n",
            " dense_18 (Dense)            (None, 100)               78500     \n",
            "                                                                 \n",
            " dense_19 (Dense)            (None, 10)                1010      \n",
            "                                                                 \n",
            "=================================================================\n",
            "Total params: 79,510\n",
            "Trainable params: 79,510\n",
            "Non-trainable params: 0\n",
            "_________________________________________________________________\n",
            "Epoch 1/15\n",
            "938/938 [==============================] - 4s 3ms/step - loss: 0.2692 - accuracy: 0.9227 - val_loss: 0.1503 - val_accuracy: 0.9586\n",
            "Epoch 2/15\n",
            "938/938 [==============================] - 3s 3ms/step - loss: 0.1102 - accuracy: 0.9671 - val_loss: 0.1200 - val_accuracy: 0.9667\n",
            "Epoch 3/15\n",
            "938/938 [==============================] - 3s 3ms/step - loss: 0.0739 - accuracy: 0.9777 - val_loss: 0.1178 - val_accuracy: 0.9682\n",
            "Epoch 4/15\n",
            "938/938 [==============================] - 3s 3ms/step - loss: 0.0559 - accuracy: 0.9832 - val_loss: 0.1225 - val_accuracy: 0.9691\n",
            "Epoch 5/15\n",
            "938/938 [==============================] - 3s 3ms/step - loss: 0.0421 - accuracy: 0.9877 - val_loss: 0.1295 - val_accuracy: 0.9711\n",
            "Epoch 6/15\n",
            "938/938 [==============================] - 3s 3ms/step - loss: 0.0335 - accuracy: 0.9895 - val_loss: 0.1251 - val_accuracy: 0.9720\n",
            "Epoch 7/15\n",
            "938/938 [==============================] - 3s 3ms/step - loss: 0.0242 - accuracy: 0.9929 - val_loss: 0.1306 - val_accuracy: 0.9724\n",
            "Epoch 8/15\n",
            "938/938 [==============================] - 3s 3ms/step - loss: 0.0205 - accuracy: 0.9938 - val_loss: 0.1375 - val_accuracy: 0.9719\n",
            "Epoch 9/15\n",
            "938/938 [==============================] - 3s 3ms/step - loss: 0.0157 - accuracy: 0.9954 - val_loss: 0.1457 - val_accuracy: 0.9720\n",
            "Epoch 10/15\n",
            "938/938 [==============================] - 3s 3ms/step - loss: 0.0147 - accuracy: 0.9953 - val_loss: 0.1558 - val_accuracy: 0.9714\n",
            "Epoch 11/15\n",
            "938/938 [==============================] - 3s 3ms/step - loss: 0.0150 - accuracy: 0.9956 - val_loss: 0.1621 - val_accuracy: 0.9731\n",
            "Epoch 12/15\n",
            "938/938 [==============================] - 3s 3ms/step - loss: 0.0183 - accuracy: 0.9953 - val_loss: 0.1834 - val_accuracy: 0.9716\n",
            "Epoch 13/15\n",
            "938/938 [==============================] - 3s 3ms/step - loss: 0.0153 - accuracy: 0.9960 - val_loss: 0.1905 - val_accuracy: 0.9709\n",
            "Epoch 14/15\n",
            "938/938 [==============================] - 3s 3ms/step - loss: 0.0114 - accuracy: 0.9969 - val_loss: 0.1879 - val_accuracy: 0.9735\n",
            "Epoch 15/15\n",
            "938/938 [==============================] - 3s 3ms/step - loss: 0.0103 - accuracy: 0.9971 - val_loss: 0.2076 - val_accuracy: 0.9717\n"
          ]
        },
        {
          "output_type": "execute_result",
          "data": {
            "text/plain": [
              "<keras.callbacks.History at 0x7ff5c47d9b10>"
            ]
          },
          "metadata": {},
          "execution_count": 76
        }
      ]
    },
    {
      "cell_type": "code",
      "metadata": {
        "id": "2HUcSVS-1ZLI"
      },
      "source": [
        "model3.history.history['accuracy']\n",
        "model3.history.history['loss']\n",
        "model3.history.history['val_accuracy']\n",
        "model3.history.history['val_loss']"
      ],
      "execution_count": null,
      "outputs": []
    },
    {
      "cell_type": "code",
      "metadata": {
        "colab": {
          "base_uri": "https://localhost:8080/",
          "height": 282
        },
        "id": "Sp3fVZCx1Y_0",
        "outputId": "59e34fea-a99a-4619-e285-dbd4e9440eb1"
      },
      "source": [
        "sns.lineplot(data= [model3.history.history['accuracy'], model3.history.history['val_accuracy'], model4.history.history['val_accuracy']], legend = False)\n",
        "plt.legend(loc='center right', labels=['ERM', 'SRR std = 0.2', 'SRRbstd = 5'])"
      ],
      "execution_count": null,
      "outputs": [
        {
          "output_type": "execute_result",
          "data": {
            "text/plain": [
              "<matplotlib.legend.Legend at 0x7f968f39d090>"
            ]
          },
          "metadata": {},
          "execution_count": 28
        },
        {
          "output_type": "display_data",
          "data": {
            "image/png": "[encoded data removed]",
            "text/plain": [
              "<Figure size 432x288 with 1 Axes>"
            ]
          },
          "metadata": {
            "needs_background": "light"
          }
        }
      ]
    },
    {
      "cell_type": "markdown",
      "metadata": {
        "id": "bgLIHvb5Sd6Y"
      },
      "source": [
        "Il grafico di epsilon, when we use clean training samples"
      ]
    },
    {
      "cell_type": "code",
      "metadata": {
        "id": "LycEKESZSc14"
      },
      "source": [
        "scores = model6.evaluate(x_test_flatten, y_test)\n",
        "type(scores)\n",
        "print(scores)\n",
        "36/313\n",
        "\n",
        "cross_entropy = []\n",
        "accuracy = []\n",
        "for i in range(51):\n",
        "  x_test_perturbed_uniformly = perturbed_dataset_uniform(x_test_normalized, x_test_normalized.shape[0], x_test_normalized.shape[1], sigma = i/10, c = 1)\n",
        "  scores = model6.evaluate(x_test_perturbed_uniformly, y_test)\n",
        "  cross_entropy.append(scores[0])\n",
        "  accuracy.append(scores[1])\n",
        "#print(\"\\n%s: %.2f%%\" % (model.metrics_names[1], scores[1]*100))"
      ],
      "execution_count": null,
      "outputs": []
    },
    {
      "cell_type": "code",
      "metadata": {
        "id": "JgGFf_iMY0c6"
      },
      "source": [
        "cross_entropy2 = []\n",
        "accuracy2 = []\n",
        "for i in range(51):\n",
        "  x_test_perturbed_uniformly = perturbed_dataset_uniform(x_test_normalized, x_test_normalized.shape[0], x_test_normalized.shape[1], sigma = i/10, c = 1)\n",
        "  scores = model5.evaluate(x_test_perturbed_uniformly, y_test)\n",
        "  cross_entropy2.append(scores[0])\n",
        "  accuracy2.append(scores[1])\n",
        "#print(\"\\n%s: %.2f%%\" % (model.metrics_names[1], scores[1]*100))"
      ],
      "execution_count": null,
      "outputs": []
    },
    {
      "cell_type": "code",
      "metadata": {
        "id": "LLBazJBZavHc"
      },
      "source": [
        "cross_entropy3 = []\n",
        "accuracy3 = []\n",
        "for i in range(51):\n",
        "  x_test_perturbed_uniformly = perturbed_dataset_uniform(x_test_normalized, x_test_normalized.shape[0], x_test_normalized.shape[1], sigma = i/10, c = 1)\n",
        "  scores = model4.evaluate(x_test_perturbed_uniformly, y_test)\n",
        "  cross_entropy3.append(scores[0])\n",
        "  accuracy3.append(scores[1])\n",
        "#print(\"\\n%s: %.2f%%\" % (model.metrics_names[1], scores[1]*100))"
      ],
      "execution_count": null,
      "outputs": []
    },
    {
      "cell_type": "code",
      "metadata": {
        "id": "50i2_yZSdNrL"
      },
      "source": [
        "cross_entropy4 = []\n",
        "accuracy4 = []\n",
        "for i in range(51):\n",
        "  x_test_perturbed_uniformly = perturbed_dataset_uniform(x_test_normalized, x_test_normalized.shape[0], x_test_normalized.shape[1], sigma = i/10, c = 1)\n",
        "  scores = model3.evaluate(x_test_perturbed_uniformly, y_test)\n",
        "  cross_entropy4.append(scores[0])\n",
        "  accuracy4.append(scores[1])\n",
        "#print(\"\\n%s: %.2f%%\" % (model.metrics_names[1], scores[1]*100))"
      ],
      "execution_count": null,
      "outputs": []
    },
    {
      "cell_type": "code",
      "metadata": {
        "id": "3zKe2gM_gV_U"
      },
      "source": [
        "cross_entropy5 = []\n",
        "accuracy5 = []\n",
        "for i in range(51):\n",
        "  x_test_perturbed_uniformly = perturbed_dataset_uniform(x_test_normalized, x_test_normalized.shape[0], x_test_normalized.shape[1], sigma = i/10, c = 1)\n",
        "  scores = model2.evaluate(x_test_perturbed_uniformly, y_test)\n",
        "  cross_entropy5.append(scores[0])\n",
        "  accuracy5.append(scores[1])\n",
        "#print(\"\\n%s: %.2f%%\" % (model.metrics_names[1], scores[1]*100))"
      ],
      "execution_count": null,
      "outputs": []
    },
    {
      "cell_type": "code",
      "metadata": {
        "id": "J1Ygz7l4n6Hd"
      },
      "source": [
        "cross_entropy7 = []\n",
        "accuracy7 = []\n",
        "for i in range(51):\n",
        "  x_test_perturbed_uniformly = perturbed_dataset_uniform(x_test_normalized, x_test_normalized.shape[0], x_test_normalized.shape[1], sigma = i/10, c = 1)\n",
        "  scores = model7.evaluate(x_test_perturbed_uniformly, y_test)\n",
        "  cross_entropy7.append(scores[0])\n",
        "  accuracy7.append(scores[1])\n",
        "#print(\"\\n%s: %.2f%%\" % (model.metrics_names[1], scores[1]*100))"
      ],
      "execution_count": null,
      "outputs": []
    },
    {
      "cell_type": "code",
      "metadata": {
        "id": "hyNigge84ias"
      },
      "source": [
        "cross_entropy8 = []\n",
        "accuracy8 = []\n",
        "for i in range(51):\n",
        "  x_test_perturbed_uniformly = perturbed_dataset_uniform(x_test_normalized, x_test_normalized.shape[0], x_test_normalized.shape[1], sigma = i/10, c = 1)\n",
        "  scores = model8.evaluate(x_test_perturbed_uniformly, y_test)\n",
        "  cross_entropy8.append(scores[0])\n",
        "  accuracy8.append(scores[1])\n",
        "#print(\"\\n%s: %.2f%%\" % (model.metrics_names[1], scores[1]*100))"
      ],
      "execution_count": null,
      "outputs": []
    },
    {
      "cell_type": "code",
      "metadata": {
        "id": "sywikUwS8iNJ"
      },
      "source": [
        "cross_entropy9 = []\n",
        "accuracy9 = []\n",
        "for i in range(51):\n",
        "  x_test_perturbed_uniformly = perturbed_dataset_uniform(x_test_normalized, x_test_normalized.shape[0], x_test_normalized.shape[1], sigma = i/10, c = 1)\n",
        "  scores = model9.evaluate(x_test_perturbed_uniformly, y_test)\n",
        "  cross_entropy9.append(scores[0])\n",
        "  accuracy9.append(scores[1])\n",
        "#print(\"\\n%s: %.2f%%\" % (model.metrics_names[1], scores[1]*100))"
      ],
      "execution_count": null,
      "outputs": []
    },
    {
      "cell_type": "code",
      "metadata": {
        "colab": {
          "base_uri": "https://localhost:8080/"
        },
        "id": "CGbsw6F5_6Xi",
        "outputId": "5fc9530f-666c-4819-c80d-d627550571af"
      },
      "source": [
        "cross_entropy10 = []\n",
        "accuracy10 = []\n",
        "for i in range(51):\n",
        "  x_test_perturbed_uniformly = perturbed_dataset_uniform(x_test_normalized, x_test_normalized.shape[0], x_test_normalized.shape[1], sigma = i/10, c = 1)\n",
        "  scores = model10.evaluate(x_test_perturbed_uniformly, y_test)\n",
        "  cross_entropy10.append(scores[0])\n",
        "  accuracy10.append(scores[1])\n",
        "#print(\"\\n%s: %.2f%%\" % (model.metrics_names[1], scores[1]*100))"
      ],
      "execution_count": null,
      "outputs": [
        {
          "output_type": "stream",
          "name": "stdout",
          "text": [
            "313/313 [==============================] - 0s 2ms/step - loss: 0.2286 - accuracy: 0.9713\n",
            "313/313 [==============================] - 0s 1ms/step - loss: 0.2292 - accuracy: 0.9714\n",
            "313/313 [==============================] - 1s 2ms/step - loss: 0.2355 - accuracy: 0.9708\n",
            "313/313 [==============================] - 0s 2ms/step - loss: 0.2333 - accuracy: 0.9701\n",
            "313/313 [==============================] - 0s 2ms/step - loss: 0.2495 - accuracy: 0.9689\n",
            "313/313 [==============================] - 1s 2ms/step - loss: 0.2526 - accuracy: 0.9661\n",
            "313/313 [==============================] - 1s 2ms/step - loss: 0.2661 - accuracy: 0.9638\n",
            "313/313 [==============================] - 0s 1ms/step - loss: 0.2854 - accuracy: 0.9634\n",
            "313/313 [==============================] - 1s 2ms/step - loss: 0.3100 - accuracy: 0.9569\n",
            "313/313 [==============================] - 1s 2ms/step - loss: 0.3493 - accuracy: 0.9533\n",
            "313/313 [==============================] - 0s 2ms/step - loss: 0.3779 - accuracy: 0.9438\n",
            "313/313 [==============================] - 0s 2ms/step - loss: 0.4037 - accuracy: 0.9377\n",
            "313/313 [==============================] - 0s 2ms/step - loss: 0.4906 - accuracy: 0.9307\n",
            "313/313 [==============================] - 1s 2ms/step - loss: 0.5446 - accuracy: 0.9178\n",
            "313/313 [==============================] - 0s 2ms/step - loss: 0.6378 - accuracy: 0.9065\n",
            "313/313 [==============================] - 0s 2ms/step - loss: 0.7040 - accuracy: 0.8976\n",
            "313/313 [==============================] - 0s 2ms/step - loss: 0.8668 - accuracy: 0.8793\n",
            "313/313 [==============================] - 0s 2ms/step - loss: 0.9702 - accuracy: 0.8688\n",
            "313/313 [==============================] - 0s 1ms/step - loss: 1.1439 - accuracy: 0.8510\n",
            "313/313 [==============================] - 1s 2ms/step - loss: 1.3148 - accuracy: 0.8304\n",
            "313/313 [==============================] - 1s 2ms/step - loss: 1.4354 - accuracy: 0.8172\n",
            "313/313 [==============================] - 1s 2ms/step - loss: 1.7243 - accuracy: 0.8008\n",
            "313/313 [==============================] - 0s 2ms/step - loss: 1.9379 - accuracy: 0.7844\n",
            "313/313 [==============================] - 0s 2ms/step - loss: 2.1301 - accuracy: 0.7644\n",
            "313/313 [==============================] - 1s 2ms/step - loss: 2.4356 - accuracy: 0.7522\n",
            "313/313 [==============================] - 1s 2ms/step - loss: 2.6987 - accuracy: 0.7343\n",
            "313/313 [==============================] - 1s 2ms/step - loss: 2.9750 - accuracy: 0.7120\n",
            "313/313 [==============================] - 1s 2ms/step - loss: 3.3484 - accuracy: 0.6914\n",
            "313/313 [==============================] - 1s 2ms/step - loss: 3.6063 - accuracy: 0.6817\n",
            "313/313 [==============================] - 1s 2ms/step - loss: 3.8859 - accuracy: 0.6665\n",
            "313/313 [==============================] - 1s 2ms/step - loss: 4.4594 - accuracy: 0.6441\n",
            "313/313 [==============================] - 1s 2ms/step - loss: 4.7262 - accuracy: 0.6334\n",
            "313/313 [==============================] - 1s 2ms/step - loss: 5.1859 - accuracy: 0.6163\n",
            "313/313 [==============================] - 1s 2ms/step - loss: 5.4690 - accuracy: 0.6050\n",
            "313/313 [==============================] - 0s 2ms/step - loss: 5.9420 - accuracy: 0.5858\n",
            "313/313 [==============================] - 0s 2ms/step - loss: 6.3543 - accuracy: 0.5720\n",
            "313/313 [==============================] - 1s 2ms/step - loss: 6.8737 - accuracy: 0.5587\n",
            "313/313 [==============================] - 0s 2ms/step - loss: 7.1445 - accuracy: 0.5540\n",
            "313/313 [==============================] - 0s 2ms/step - loss: 7.6468 - accuracy: 0.5458\n",
            "313/313 [==============================] - 0s 2ms/step - loss: 8.0987 - accuracy: 0.5258\n",
            "313/313 [==============================] - 0s 2ms/step - loss: 8.5279 - accuracy: 0.5192\n",
            "313/313 [==============================] - 0s 2ms/step - loss: 8.9181 - accuracy: 0.5079\n",
            "313/313 [==============================] - 0s 2ms/step - loss: 9.4085 - accuracy: 0.4958\n",
            "313/313 [==============================] - 1s 2ms/step - loss: 9.9563 - accuracy: 0.4800\n",
            "313/313 [==============================] - 1s 2ms/step - loss: 10.5823 - accuracy: 0.4649\n",
            "313/313 [==============================] - 0s 2ms/step - loss: 10.9264 - accuracy: 0.4585\n",
            "313/313 [==============================] - 1s 2ms/step - loss: 11.4864 - accuracy: 0.4508\n",
            "313/313 [==============================] - 1s 2ms/step - loss: 11.9485 - accuracy: 0.4420\n",
            "313/313 [==============================] - 0s 2ms/step - loss: 12.5123 - accuracy: 0.4392\n",
            "313/313 [==============================] - 1s 2ms/step - loss: 13.0420 - accuracy: 0.4293\n",
            "313/313 [==============================] - 1s 2ms/step - loss: 13.4763 - accuracy: 0.4171\n"
          ]
        }
      ]
    },
    {
      "cell_type": "code",
      "metadata": {
        "colab": {
          "base_uri": "https://localhost:8080/"
        },
        "id": "bqiy5FVmX4X-",
        "outputId": "ce717fb0-ee4e-462f-e5f5-64d7ea4941b7"
      },
      "source": [
        "len(np.arange(0, 5.1, 0.1))"
      ],
      "execution_count": null,
      "outputs": [
        {
          "output_type": "execute_result",
          "data": {
            "text/plain": [
              "51"
            ]
          },
          "metadata": {},
          "execution_count": 50
        }
      ]
    },
    {
      "cell_type": "code",
      "metadata": {
        "colab": {
          "base_uri": "https://localhost:8080/",
          "height": 555
        },
        "id": "LniMPe4DWDOq",
        "outputId": "ffee6958-9002-4bd0-ffb1-28a84ff12459"
      },
      "source": [
        "sns.lineplot(y =  cross_entropy,x = np.arange(0, 5.1, 0.1),  legend = False)\n",
        "#sns.lineplot(y = cross_entropy2 ,x = np.arange(0, 5.1, 0.1),  legend = False) #N = 0.2\n",
        "#sns.lineplot(y = cross_entropy3 ,x = np.arange(0, 5.1, 0.1),  legend = False) #N = 5\n",
        "sns.lineplot(y = cross_entropy10 ,x = np.arange(0, 5.1, 0.1),  legend = False) #U = 0.5\n",
        "\n",
        "sns.lineplot(y = cross_entropy8 ,x = np.arange(0, 5.1, 0.1),  legend = False) #U = 1\n",
        "sns.lineplot(y = cross_entropy9 ,x = np.arange(0, 5.1, 0.1),  legend = False) #U = 2\n",
        "#sns.lineplot(y = cross_entropy5 ,x = np.arange(0, 5.1, 0.1),  legend = False) #N = 1.5\n",
        "sns.lineplot(y = cross_entropy4 ,x = np.arange(0, 5.1, 0.1),  legend = False) #U = 5\n",
        "sns.lineplot(y = cross_entropy7 ,x = np.arange(0, 5.1, 0.1),  legend = False) #U = 10\n",
        "\n",
        "plt.legend(loc='top left', labels=['ERM', 'U = 0.5', 'U = 1', 'U = 2', 'U = 5', 'U = 10' ], title = 'training')\n",
        "plt.title('Cross entropy on uniformly perturbed test set')\n",
        "plt.xlabel('Uniform noise')"
      ],
      "execution_count": null,
      "outputs": [
        {
          "output_type": "stream",
          "name": "stderr",
          "text": [
            "/usr/local/lib/python3.7/dist-packages/ipykernel_launcher.py:12: MatplotlibDeprecationWarning: Unrecognized location 'top left'. Falling back on 'best'; valid locations are\n",
            "\tbest\n",
            "\tupper right\n",
            "\tupper left\n",
            "\tlower left\n",
            "\tlower right\n",
            "\tright\n",
            "\tcenter left\n",
            "\tcenter right\n",
            "\tlower center\n",
            "\tupper center\n",
            "\tcenter\n",
            "This will raise an exception in 3.3.\n",
            "  if sys.path[0] == '':\n"
          ]
        },
        {
          "output_type": "execute_result",
          "data": {
            "text/plain": [
              "Text(0.5, 0, 'Uniform noise')"
            ]
          },
          "metadata": {},
          "execution_count": 131
        },
        {
          "output_type": "display_data",
          "data": {
            "image/png": "[encoded data removed]",
            "text/plain": [
              "<Figure size 432x288 with 1 Axes>"
            ]
          },
          "metadata": {
            "needs_background": "light"
          }
        }
      ]
    },
    {
      "cell_type": "code",
      "metadata": {
        "colab": {
          "base_uri": "https://localhost:8080/",
          "height": 555
        },
        "id": "7x8KLj3Zb867",
        "outputId": "1a5ea8b5-61cb-4109-aaae-82b8485a6595"
      },
      "source": [
        "sns.lineplot(y =  accuracy,x = np.arange(0, 5.1, 0.1),  legend = False)\n",
        "#sns.lineplot(y = accuracy2 ,x = np.arange(0, 5.1, 0.1),  legend = False) #N = 0.2\n",
        "#sns.lineplot(y = accuracy3 ,x = np.arange(0, 5.1, 0.1),  legend = False) #N = 5\n",
        "sns.lineplot(y = accuracy10 ,x = np.arange(0, 5.1, 0.1),  legend = False) #U = 0.5\n",
        "sns.lineplot(y = accuracy8 ,x = np.arange(0, 5.1, 0.1),  legend = False) #U = 1\n",
        "sns.lineplot(y = accuracy9 ,x = np.arange(0, 5.1, 0.1),  legend = False) #U = 2\n",
        "sns.lineplot(y = accuracy4 ,x = np.arange(0, 5.1, 0.1),  legend = False) #U = 5\n",
        "#sns.lineplot(y = accuracy5 ,x = np.arange(0, 5.1, 0.1),  legend = False) #N = 1.5\n",
        "sns.lineplot(y = accuracy7 ,x = np.arange(0, 5.1, 0.1),  legend = False) # U = 10\n",
        "\n",
        "\n",
        "plt.legend(loc='top left', labels=['ERM', 'U = 0.5', 'U = 1', 'U = 2', 'U = 5', 'U = 10'], title = 'training')\n",
        "plt.title('Accuracy on uniformly perturbed test set')\n",
        "plt.xlabel('Uniform noise')"
      ],
      "execution_count": null,
      "outputs": [
        {
          "output_type": "stream",
          "name": "stderr",
          "text": [
            "/usr/local/lib/python3.7/dist-packages/ipykernel_launcher.py:12: MatplotlibDeprecationWarning: Unrecognized location 'top left'. Falling back on 'best'; valid locations are\n",
            "\tbest\n",
            "\tupper right\n",
            "\tupper left\n",
            "\tlower left\n",
            "\tlower right\n",
            "\tright\n",
            "\tcenter left\n",
            "\tcenter right\n",
            "\tlower center\n",
            "\tupper center\n",
            "\tcenter\n",
            "This will raise an exception in 3.3.\n",
            "  if sys.path[0] == '':\n"
          ]
        },
        {
          "output_type": "execute_result",
          "data": {
            "text/plain": [
              "Text(0.5, 0, 'Uniform noise')"
            ]
          },
          "metadata": {},
          "execution_count": 130
        },
        {
          "output_type": "display_data",
          "data": {
            "image/png": "[encoded data removed]",
            "text/plain": [
              "<Figure size 432x288 with 1 Axes>"
            ]
          },
          "metadata": {
            "needs_background": "light"
          }
        }
      ]
    },
    {
      "cell_type": "code",
      "metadata": {
        "id": "6sc8ynQguHmn"
      },
      "source": [
        ""
      ],
      "execution_count": null,
      "outputs": []
    },
    {
      "cell_type": "code",
      "metadata": {
        "id": "n5TF6HdcuLc-"
      },
      "source": [
        ""
      ],
      "execution_count": null,
      "outputs": []
    },
    {
      "cell_type": "code",
      "metadata": {
        "id": "8GiEQoH6ucJh"
      },
      "source": [
        ""
      ],
      "execution_count": null,
      "outputs": []
    },
    {
      "cell_type": "code",
      "metadata": {
        "id": "4rx1fRiDuWwl"
      },
      "source": [
        "def perturbed_image(x, n, d, sigma, c):\n",
        "\n",
        "  noise = np.random.uniform(low = -sigma, high = sigma, size=(n,d,1))\n",
        "  out = x + noise\n",
        "\n",
        "  for i in range(1, c):\n",
        "    noise = np.random.normal(loc=0.0, scale=sigma, size=(n,d,1))\n",
        "    perturbed = x + noise\n",
        "    out = np.concatenate((out, perturbed), axis = 0)\n",
        "  return out"
      ],
      "execution_count": null,
      "outputs": []
    },
    {
      "cell_type": "code",
      "metadata": {
        "colab": {
          "base_uri": "https://localhost:8080/"
        },
        "id": "yYKDL4ZhvDon",
        "outputId": "900e81ac-3c43-4437-ffca-c28c10ba8237"
      },
      "source": [
        "train_images.shape"
      ],
      "execution_count": null,
      "outputs": [
        {
          "output_type": "execute_result",
          "data": {
            "text/plain": [
              "(60000, 28, 28)"
            ]
          },
          "metadata": {},
          "execution_count": 82
        }
      ]
    },
    {
      "cell_type": "code",
      "metadata": {
        "id": "tl1nfCNru_FH"
      },
      "source": [
        "std = train_images.std(axis = 0)"
      ],
      "execution_count": null,
      "outputs": []
    },
    {
      "cell_type": "code",
      "metadata": {
        "colab": {
          "base_uri": "https://localhost:8080/"
        },
        "id": "yKrPzLPjvUjQ",
        "outputId": "bfa99cd5-d44a-48ad-e832-2164a5c84e36"
      },
      "source": [
        "np.array([1.5, 1.2, 4.2]).astype(int)"
      ],
      "execution_count": null,
      "outputs": [
        {
          "output_type": "execute_result",
          "data": {
            "text/plain": [
              "array([1, 1, 4])"
            ]
          },
          "metadata": {},
          "execution_count": 89
        }
      ]
    },
    {
      "cell_type": "code",
      "metadata": {
        "id": "qqHEuREquHdI"
      },
      "source": [
        "(train_images, train_labels), (test_images, test_labels)= mnist.load_data()\n"
      ],
      "execution_count": null,
      "outputs": []
    },
    {
      "cell_type": "code",
      "metadata": {
        "colab": {
          "base_uri": "https://localhost:8080/",
          "height": 1000
        },
        "id": "2Ng_of2PwJF-",
        "outputId": "a9366729-1ba8-4d6e-ed01-5170c45ba5fc"
      },
      "source": [
        " \n",
        "noise = np.multiply(std, np.random.uniform(low = -2, high = 2, size = std.shape) ).astype(int)\n",
        "print(noise)\n",
        "example = train_images[15] + noise\n",
        "\n",
        "\n",
        "for i in range(example.shape[0]):\n",
        "  for j in range(example.shape[1]):\n",
        "    if example[i,j] < 0:\n",
        "      example[i,j] = 0\n",
        "    elif example[i,j] > 256:\n",
        "      example[i,j] = 256\n",
        "      \n",
        "print(example)\n",
        "plt.figure()\n",
        "plt.imshow(example, cmap='gray')\n",
        "plt.title(f\"Class: {train_labels[15]}, noise Unif[-2,2]\")"
      ],
      "execution_count": null,
      "outputs": [
        {
          "output_type": "stream",
          "name": "stdout",
          "text": [
            "[[   0    0    0    0    0    0    0    0    0    0    0    0    0    2\n",
            "     0    0    0    0    0    0    0    0    0    0    0    0    0    0]\n",
            " [   0    0    0    0    0    0    0   -1    0   -6    3    1   -1    6\n",
            "     2   -1   -8    0   -2   -4    5    1   -1    0    0    0    0    0]\n",
            " [   0    0    0    0    0    0    1    6   -7   12   -3  -21   -1   32\n",
            "     9  -11   33   -7  -13  -17    4   21    8   -6    0   -1    0    0]\n",
            " [   0    0    0    0    0    0   11   -9   -9   19   45  -63   50  -24\n",
            "    56  -14  -77   45  -38  -59   56    4  -19  -10    3    1    0    0]\n",
            " [   0    0    0    1   -5   11   -4   -2  -58   59   96 -118  117   89\n",
            "    -1  -21  103   21   89   -7   26   12  -10  -31    2   10   -2    0]\n",
            " [   0    0   -1   -2   -5    0  -33  -61   36  -81  -88   32 -181   63\n",
            "   114  -38    7  145  103   81  -47 -105   52   33   20  -19    1    0]\n",
            " [   0    0    2   -2  -15   27  -68  -66  -23  -82   69  135 -110  -66\n",
            "   109    0  132  -82   30  203  182   86  -11   10  -27   30  -15   -1]\n",
            " [   0    0   -4   10  -30   -1  -18    5  107   23   -7 -200  -85  165\n",
            "    17    5  -14   91   35  198   89  -68  -41    3  -14   42  -13    1]\n",
            " [   0    3  -10   14  -41   -9   21 -133  134  178  165 -210  167  104\n",
            "  -156  121 -100 -139  -56  -89 -165  -63  -61  -11  -42  -26    8    1]\n",
            " [   0    5  -10    4  -14   72 -106   80  -95  -14  -17 -178  121  -66\n",
            "   150   15 -145  -77  144   57 -133  125  120   62  -35   30    0    1]\n",
            " [  -1    0   -1    9  -11   65   24 -112  -56   38   72   -9  183 -194\n",
            "    82  152 -155   85  186 -148  101  -99 -120  -32   14  -19    1    0]\n",
            " [   0   -4   14  -10   13  -59   75   32 -107  190  146  162  161  148\n",
            "    23   13  137 -213 -218  133  123    2  -90    9  -30   17    7   -1]\n",
            " [   0   -2   -9   19  -13   12   58 -120  -80   70   26   43 -197 -106\n",
            "   -94  215   55   92 -189  166   68   37   79   88  -14   13   -3    0]\n",
            " [   0    1   -1    6   19   10 -126  114   36   63   23   96  198  215\n",
            "  -175 -101   14   34 -113 -117  156  126  -79  -10  -42    8   -4    0]\n",
            " [   0    0    2   17   -4  -71  127  150 -181   14    3 -138  150   99\n",
            "  -216   22 -211  119  131   -2 -140  -25  -63   81   56  -17    6    0]\n",
            " [   0    0    1   15  -43   32  -62   22   -8  209 -203  196  126   45\n",
            "   -19  -25  168  124  196  -31   31    0   57  -62  -21  -22   -3    0]\n",
            " [   0    0    6   -9   -5  -85   91    4 -157  143  -52  150  125  225\n",
            "   142 -172  -26  -14 -109    1  192   -4   10  -74   56  -20    9    0]\n",
            " [   0   -1   -1   -1   15  -11   72   -5  -49  -35  -97  194  201   46\n",
            "   199  -58 -209 -105  121  197  -68 -136  -85   16  -39   -2   10    0]\n",
            " [   0    0    9  -25  -69   67   16   76  -47  -63    8 -152   43   35\n",
            "   -87  -30  162 -180   93 -133   69    9  104  -10   -5   10    0   -1]\n",
            " [   0    1    6   11   36   19   70 -159  -88   84  156  -53 -201  -48\n",
            "   -22 -219 -189 -110 -148  106 -114  -51   99   58   12  -20    5   -1]\n",
            " [   0    1  -11  -10   69 -116   22   10 -195   -9 -208  165  -48  187\n",
            "   -62 -121  126   55  183  174   97  114  100   -8   20   -8    1    0]\n",
            " [   0    1   10  -35   -5  -88   59   51 -131 -117   -7  -46 -100   70\n",
            "   105  213    2 -121   87  -52   82  -50  -36  -25    0  -13   -1    0]\n",
            " [   0    0   -1   -4   32  -27   58  137   51   19  -44  206 -175  203\n",
            "   141  -76 -130  123  -89   59    3  -41  -45  -11   -2  -10   -2    0]\n",
            " [   0    0    5   15  -16   30  -28  -68  -10   -2  -38  -17   11   55\n",
            "   148  103  126   91 -126  -97  -56   -2  -39   -2  -10   -2    1    0]\n",
            " [   0    0    2    2   17  -24    1   41  110   10 -136   15  -13  -71\n",
            "    13  -94  -46   18  -85    2   44  -23   -9   -8    1   -1    0    0]\n",
            " [   0    0    0   -2    3    7   -7   29   45  -67   -4  -22  -68   98\n",
            "    27  -52   20   31  -12  -40  -24   11    4    7   -2    0    0    0]\n",
            " [   0    0    0    0    4    4    0  -21   -5  -22   -6   57    2   31\n",
            "    27  -34    2  -32  -26   23    3  -11    5   -2    0    0    0    0]\n",
            " [   0    0    0    0    0    2    1   -6   -8   -5    9   -7  -11   13\n",
            "    -5    4    5    2    5    0   -3   -1    0    0    0    0    0    0]]\n",
            "[[  0   0   0   0   0   0   0   0   0   0   0   0   0   2   0   0   0   0\n",
            "    0   0   0   0   0   0   0   0   0   0]\n",
            " [  0   0   0   0   0   0   0   0   0   0   3   1   0   6   2   0   0   0\n",
            "    0   0   5   1   0   0   0   0   0   0]\n",
            " [  0   0   0   0   0   0   1   6   0  12   0   0   0  32   9   0  33   0\n",
            "    0   0   4  21   8   0   0   0   0   0]\n",
            " [  0   0   0   0   0   0  11   0   0  19  45   0  50   0  56   0   0  45\n",
            "    0   0  56   4   0   0   3   1   0   0]\n",
            " [  0   0   0   1   0  11   0   0   0  59  96   0 117  89   0   0 103  21\n",
            "   89   0  26  12   0   0   2  10   0   0]\n",
            " [  0   0   0   0   0   0   0   0  36   0   0  32   0  63 114   0   7 145\n",
            "  103  81   0   0  52  33  20   0   1   0]\n",
            " [  0   0   2   0   0  27   0   0   0   0  69 135   0   0 109   0 132   0\n",
            "   30 203 182  86   0  10   0  30   0   0]\n",
            " [  0   0   0  10   0   0   0   5 107  23   0   0   0 165  17 120 107 253\n",
            "  256 256 256   0   0   3   0  42   0   1]\n",
            " [  0   3   0  14   0   0  21   0 134 178 165   0 230 211  14 256 152 113\n",
            "  196 163  85 151   0   0   0   0   8   1]\n",
            " [  0   5   0   4   0  72   0  80   0 178 209  48 256 186 256 217 107 175\n",
            "  256 256 119 256 120  62   0  30   0   1]\n",
            " [  0   0   0   9   0  65  24   0 167 256 256 243 256  58 121 171   0 150\n",
            "  256 104 256  84   0   0  14   0   1   0]\n",
            " [  0   0  14   0  13   0  75 218 145 256 256 256 256 201  23  13 137   0\n",
            "   34 256 256  22   0   9   0  17   7   0]\n",
            " [  0   0   0  19   0  12 128 122 172 256 248 102   0   0   0 215  55 256\n",
            "   63 256 209  37  79  88   0  13   0   0]\n",
            " [  0   1   0   6  19  10  59 256 256 256  90  96 198 215   0   0 104 256\n",
            "  139  77 223 126   0   0   0   8   0   0]\n",
            " [  0   0   2  17   0   0 210 256   9  38   3   0 150  99   0 143  41 256\n",
            "  256  22   0   0   0  81  56   0   6   0]\n",
            " [  0   0   1  15   0  32   0  22   0 209   0 196 126  45  58 222 256 256\n",
            "  256   0  31   0  57   0   0   0   0   0]\n",
            " [  0   0   6   0   0   0  91   4   0 143   0 150 125 225 256  80 226  88\n",
            "    0   1 192   0  10   0  56   0   9   0]\n",
            " [  0   0   0   0  15   0  72   0   0   0   0 194 201 180 256 195  44   0\n",
            "  121 197   0   0   0  16   0   0  10   0]\n",
            " [  0   0   9   0   0  67  16  76   0   0   8   0  49 218 166 222 256   0\n",
            "   93   0  69   9 104   0   0  10   0   0]\n",
            " [  0   1   6  11  36  19  70   0   0  84 156   0   0 204 231   0   0   0\n",
            "    0 106   0   0  99  58  12   0   5   0]\n",
            " [  0   1   0   0  69   0  22  10   0   0   0 256 204 256  48   0 126  55\n",
            "  183 174  97 114 100   0  20   0   1   0]\n",
            " [  0   1  10   0   0   0  59  51   0   0  34 206 152 256 105 213   2   0\n",
            "   87   0  82   0   0   0   0   0   0   0]\n",
            " [  0   0   0   0  32   0  58 137  51  59 111 256  39 234 141   0   0 123\n",
            "    0  59   3   0   0   0   0   0   0   0]\n",
            " [  0   0   5  15   0  30   0   0   0 163 214 235 117  55 148 103 126  91\n",
            "    0   0   0   0   0   0   0   0   1   0]\n",
            " [  0   0   2   2  17   0   1  41 153 189 116 165  26   0  13   0   0  18\n",
            "    0   2  44   0   0   0   1   0   0   0]\n",
            " [  0   0   0   0   3   7   0  29 182 185 217  17   0  98  27   0  20  31\n",
            "    0   0   0  11   4   7   0   0   0   0]\n",
            " [  0   0   0   0   4   4   0   0  62 230  73  57   2  31  27   0   2   0\n",
            "    0  23   3   0   5   0   0   0   0   0]\n",
            " [  0   0   0   0   0   2   1   0   0   0   9   0   0  13   0   4   5   2\n",
            "    5   0   0   0   0   0   0   0   0   0]]\n"
          ]
        },
        {
          "output_type": "execute_result",
          "data": {
            "text/plain": [
              "Text(0.5, 1.0, 'Class: 7, noise Unif[-2,2]')"
            ]
          },
          "metadata": {},
          "execution_count": 105
        },
        {
          "output_type": "display_data",
          "data": {
            "image/png": "[encoded data removed]",
            "text/plain": [
              "<Figure size 432x288 with 1 Axes>"
            ]
          },
          "metadata": {
            "needs_background": "light"
          }
        }
      ]
    },
    {
      "cell_type": "code",
      "source": [
        "std = train_images.std(axis = 0)"
      ],
      "metadata": {
        "id": "V-F3DPVFJYkE"
      },
      "execution_count": null,
      "outputs": []
    },
    {
      "cell_type": "code",
      "source": [
        "def noise_7(std, corr, var, i, j):\n",
        "  out = np.zeros((7,7))\n",
        "  out += std[i:i+7, j:j+7] * corr *np.random.normal(loc = 0, scale = var)\n",
        "  out += std[i:i+7, j:j+7] * (1-corr)*np.random.normal(loc = 0, scale = var, size = (7,7))\n",
        "  return out"
      ],
      "metadata": {
        "id": "9OCfNjjhYWxi"
      },
      "execution_count": null,
      "outputs": []
    },
    {
      "cell_type": "code",
      "source": [
        "def noise_7(std, corr, var, i, j):\n",
        "  out = np.zeros((7,7))\n",
        "  out += std[i:i+7, j:j+7] * corr *np.random.uniform(low = -var, high = var)\n",
        "  out += std[i:i+7, j:j+7] * (1-corr)*np.random.uniform(low = -var, high = var, size = (7,7))\n",
        "  return out"
      ],
      "metadata": {
        "id": "ux7QzPfQpZFb"
      },
      "execution_count": null,
      "outputs": []
    },
    {
      "cell_type": "code",
      "source": [
        "def create_noise(std, n, corr, var):\n",
        "  out = np.zeros((n,n))\n",
        "  for i in range(n//7):\n",
        "      for j in range(n//7):\n",
        "          \n",
        "          \n",
        "          out[7*i:7*i+7, 7*j:7*j+7] += noise_7(std, corr, var, i, j)\n",
        "\n",
        "  return out\n",
        "\n",
        "\n",
        "\n",
        "#create_noise(28, 0.5, 1)"
      ],
      "metadata": {
        "id": "fYPR2_xrX9Vy"
      },
      "execution_count": null,
      "outputs": []
    },
    {
      "cell_type": "code",
      "source": [
        "def perturbed_correlated(std, x, n, corr, var):\n",
        "  out = deepcopy(x)\n",
        "  out.astype(int)\n",
        "  for i in range(out.shape[0]):\n",
        "    out[i] = out[i] + create_noise(std, n, corr, var).astype(int)\n",
        "    for j in range(out.shape[1]):\n",
        "      for k in range(out.shape[2]):\n",
        "        if out[i,j,k] < 0:\n",
        "          out[i,j,k] = 0\n",
        "        elif out[i,j,k] > 256:\n",
        "          out[i,j,k] = 256\n",
        "        else:\n",
        "          out[i,j,k] = int(out[i,j,k])\n",
        "  return out\n"
      ],
      "metadata": {
        "id": "Vl2PaLg3cTYR"
      },
      "execution_count": null,
      "outputs": []
    },
    {
      "cell_type": "code",
      "source": [
        "pd = perturbed_correlated(std,test_images, 28, 0.9, 1)"
      ],
      "metadata": {
        "id": "LtzK8Qamk1Qf"
      },
      "execution_count": null,
      "outputs": []
    },
    {
      "cell_type": "code",
      "source": [
        ""
      ],
      "metadata": {
        "id": "HwitZvtAmbYT"
      },
      "execution_count": null,
      "outputs": []
    },
    {
      "cell_type": "code",
      "source": [
        "\n",
        "example = pd[15]\n",
        "      \n",
        "#print(example)\n",
        "plt.figure()\n",
        "plt.imshow(example, cmap='gray')\n",
        "plt.title(f\"Class: {test_labels[15]}, noise Unif[-2,2]\")"
      ],
      "metadata": {
        "colab": {
          "base_uri": "https://localhost:8080/",
          "height": 298
        },
        "id": "_1nIjxzeRMDe",
        "outputId": "bfe24071-7c00-4ddd-e114-448b5268c713"
      },
      "execution_count": null,
      "outputs": [
        {
          "output_type": "execute_result",
          "data": {
            "text/plain": [
              "Text(0.5, 1.0, 'Class: 5, noise Unif[-2,2]')"
            ]
          },
          "metadata": {},
          "execution_count": 39
        },
        {
          "output_type": "display_data",
          "data": {
            "image/png": "[encoded data removed]",
            "text/plain": [
              "<Figure size 432x288 with 1 Axes>"
            ]
          },
          "metadata": {
            "needs_background": "light"
          }
        }
      ]
    },
    {
      "cell_type": "code",
      "source": [
        "pd2 = perturbed_correlated(std,test_images, 28, 0.5, 0.5)"
      ],
      "metadata": {
        "id": "CHEslm5Dm2VL"
      },
      "execution_count": null,
      "outputs": []
    },
    {
      "cell_type": "code",
      "source": [
        "example = pd2[15]\n",
        "      \n",
        "#print(example)\n",
        "for i in range(10):\n",
        "  example = pd2[i]\n",
        "  plt.figure()\n",
        "  plt.imshow(example, cmap='gray')\n",
        "  plt.title(f\"Class: {test_labels[i]}, noise Unif[-2,2]\")"
      ],
      "metadata": {
        "colab": {
          "base_uri": "https://localhost:8080/",
          "height": 1000
        },
        "id": "KqprZPhUnJzi",
        "outputId": "5ef2d4a2-99ff-49bc-ae8f-a186ffcf4295"
      },
      "execution_count": null,
      "outputs": [
        {
          "output_type": "display_data",
          "data": {
            "image/png": "[encoded data removed]",
            "text/plain": [
              "<Figure size 432x288 with 1 Axes>"
            ]
          },
          "metadata": {
            "needs_background": "light"
          }
        },
        {
          "output_type": "display_data",
          "data": {
            "image/png": "[encoded data removed]",
            "text/plain": [
              "<Figure size 432x288 with 1 Axes>"
            ]
          },
          "metadata": {
            "needs_background": "light"
          }
        },
        {
          "output_type": "display_data",
          "data": {
            "image/png": "[encoded data removed]",
            "text/plain": [
              "<Figure size 432x288 with 1 Axes>"
            ]
          },
          "metadata": {
            "needs_background": "light"
          }
        },
        {
          "output_type": "display_data",
          "data": {
            "image/png": "[encoded data removed]",
            "text/plain": [
              "<Figure size 432x288 with 1 Axes>"
            ]
          },
          "metadata": {
            "needs_background": "light"
          }
        },
        {
          "output_type": "display_data",
          "data": {
            "image/png": "[encoded data removed]",
            "text/plain": [
              "<Figure size 432x288 with 1 Axes>"
            ]
          },
          "metadata": {
            "needs_background": "light"
          }
        },
        {
          "output_type": "display_data",
          "data": {
            "image/png": "[encoded data removed]",
            "text/plain": [
              "<Figure size 432x288 with 1 Axes>"
            ]
          },
          "metadata": {
            "needs_background": "light"
          }
        },
        {
          "output_type": "display_data",
          "data": {
            "image/png": "[encoded data removed]",
            "text/plain": [
              "<Figure size 432x288 with 1 Axes>"
            ]
          },
          "metadata": {
            "needs_background": "light"
          }
        },
        {
          "output_type": "display_data",
          "data": {
            "image/png": "[encoded data removed]",
            "text/plain": [
              "<Figure size 432x288 with 1 Axes>"
            ]
          },
          "metadata": {
            "needs_background": "light"
          }
        },
        {
          "output_type": "display_data",
          "data": {
            "image/png": "[encoded data removed]",
            "text/plain": [
              "<Figure size 432x288 with 1 Axes>"
            ]
          },
          "metadata": {
            "needs_background": "light"
          }
        },
        {
          "output_type": "display_data",
          "data": {
            "image/png": "[encoded data removed]",
            "text/plain": [
              "<Figure size 432x288 with 1 Axes>"
            ]
          },
          "metadata": {
            "needs_background": "light"
          }
        }
      ]
    },
    {
      "cell_type": "code",
      "source": [
        "pd3 = perturbed_correlated(std,test_images, 28, 0, 0.2)"
      ],
      "metadata": {
        "id": "Ns3KdIRpoCIU"
      },
      "execution_count": null,
      "outputs": []
    },
    {
      "cell_type": "code",
      "source": [
        "for i in range(16):\n",
        "  example = pd3[i]\n",
        "  plt.figure()\n",
        "  plt.imshow(example, cmap='gray')\n",
        "  plt.title(f\"Class: {test_labels[i]}\")"
      ],
      "metadata": {
        "id": "Id-LIOYcoJdK"
      },
      "execution_count": null,
      "outputs": []
    },
    {
      "cell_type": "code",
      "source": [
        "pd4 = perturbed_correlated(std,train_images, 28, 0, 0.2)"
      ],
      "metadata": {
        "id": "EjUO_yufpolz"
      },
      "execution_count": null,
      "outputs": []
    },
    {
      "cell_type": "code",
      "source": [
        "for i in range(16):\n",
        "  example = pd4[i]\n",
        "  plt.figure()\n",
        "  plt.imshow(example, cmap='gray')\n",
        "  plt.title(f\"Class: {train_labels[i]}\")"
      ],
      "metadata": {
        "id": "K5byeQWipwMj"
      },
      "execution_count": null,
      "outputs": []
    },
    {
      "cell_type": "code",
      "source": [
        "pd.shape"
      ],
      "metadata": {
        "colab": {
          "base_uri": "https://localhost:8080/"
        },
        "id": "B5a7rUYDr6Wf",
        "outputId": "75bda866-6846-4143-8b53-8ea5c9abf639"
      },
      "execution_count": null,
      "outputs": [
        {
          "output_type": "execute_result",
          "data": {
            "text/plain": [
              "(10000, 28, 28)"
            ]
          },
          "metadata": {},
          "execution_count": 77
        }
      ]
    },
    {
      "cell_type": "code",
      "source": [
        ""
      ],
      "metadata": {
        "id": "357frV69yfGj"
      },
      "execution_count": null,
      "outputs": []
    },
    {
      "cell_type": "code",
      "source": [
        "cpd = normalize(pd.reshape(10000, 784, 1))"
      ],
      "metadata": {
        "id": "aD3ROt1px71y"
      },
      "execution_count": null,
      "outputs": []
    },
    {
      "cell_type": "code",
      "source": [
        "cpd2 = normalize(pd2.reshape(10000, 784, 1))"
      ],
      "metadata": {
        "id": "KeWjFu4oy9b7"
      },
      "execution_count": null,
      "outputs": []
    },
    {
      "cell_type": "code",
      "source": [
        ""
      ],
      "metadata": {
        "id": "DGm_KS7fy9aV"
      },
      "execution_count": null,
      "outputs": []
    },
    {
      "cell_type": "code",
      "source": [
        "scores = model9.evaluate(cpd, y_test)"
      ],
      "metadata": {
        "colab": {
          "base_uri": "https://localhost:8080/"
        },
        "id": "dTUdDrPXx7w3",
        "outputId": "9e165d96-97b8-4053-eb52-5c48a1a35b0c"
      },
      "execution_count": null,
      "outputs": [
        {
          "output_type": "stream",
          "name": "stdout",
          "text": [
            "313/313 [==============================] - 1s 2ms/step - loss: 6.9359 - accuracy: 0.3783\n"
          ]
        }
      ]
    },
    {
      "cell_type": "code",
      "source": [
        "model9.evaluate(cpd2, y_test)"
      ],
      "metadata": {
        "colab": {
          "base_uri": "https://localhost:8080/"
        },
        "id": "i8_WmPpax7t5",
        "outputId": "7f433eea-9101-48c6-fc06-7a551547f898"
      },
      "execution_count": null,
      "outputs": [
        {
          "output_type": "stream",
          "name": "stdout",
          "text": [
            "313/313 [==============================] - 0s 1ms/step - loss: 1.9891 - accuracy: 0.6900\n"
          ]
        },
        {
          "output_type": "execute_result",
          "data": {
            "text/plain": [
              "[1.989107608795166, 0.6899999976158142]"
            ]
          },
          "metadata": {},
          "execution_count": 82
        }
      ]
    },
    {
      "cell_type": "code",
      "source": [
        "model6.evaluate(cpd, y_test)"
      ],
      "metadata": {
        "colab": {
          "base_uri": "https://localhost:8080/"
        },
        "id": "LiiByASq1mRO",
        "outputId": "77700cca-f7ca-415d-b6d5-9b13934be382"
      },
      "execution_count": null,
      "outputs": [
        {
          "output_type": "stream",
          "name": "stdout",
          "text": [
            "313/313 [==============================] - 0s 1ms/step - loss: 9.2153 - accuracy: 0.2949\n"
          ]
        },
        {
          "output_type": "execute_result",
          "data": {
            "text/plain": [
              "[9.215315818786621, 0.29490000009536743]"
            ]
          },
          "metadata": {},
          "execution_count": 83
        }
      ]
    },
    {
      "cell_type": "code",
      "source": [
        "model8.evaluate(cpd, y_test)"
      ],
      "metadata": {
        "colab": {
          "base_uri": "https://localhost:8080/"
        },
        "id": "GlqCIV4V2EAI",
        "outputId": "ee236a1e-24e1-45c9-cc3d-2565a1101a50"
      },
      "execution_count": null,
      "outputs": [
        {
          "output_type": "stream",
          "name": "stdout",
          "text": [
            "313/313 [==============================] - 0s 2ms/step - loss: 8.4793 - accuracy: 0.3442\n"
          ]
        },
        {
          "output_type": "execute_result",
          "data": {
            "text/plain": [
              "[8.479337692260742, 0.3441999852657318]"
            ]
          },
          "metadata": {},
          "execution_count": 84
        }
      ]
    },
    {
      "cell_type": "code",
      "source": [
        "model9.evaluate(cpd, y_test)"
      ],
      "metadata": {
        "colab": {
          "base_uri": "https://localhost:8080/"
        },
        "id": "yAmWQAtg2GZ9",
        "outputId": "a01bff1f-cce1-46ee-a651-8cc6e676a267"
      },
      "execution_count": null,
      "outputs": [
        {
          "output_type": "stream",
          "name": "stdout",
          "text": [
            "313/313 [==============================] - 0s 2ms/step - loss: 6.9359 - accuracy: 0.3783\n"
          ]
        },
        {
          "output_type": "execute_result",
          "data": {
            "text/plain": [
              "[6.935872554779053, 0.3783000111579895]"
            ]
          },
          "metadata": {},
          "execution_count": 85
        }
      ]
    },
    {
      "cell_type": "code",
      "source": [
        "model3.evaluate(cpd, y_test)"
      ],
      "metadata": {
        "colab": {
          "base_uri": "https://localhost:8080/"
        },
        "id": "0j3F6BQZ2I5Z",
        "outputId": "18b1fd24-55a1-4e81-9073-36f22bc20fb9"
      },
      "execution_count": null,
      "outputs": [
        {
          "output_type": "stream",
          "name": "stdout",
          "text": [
            "313/313 [==============================] - 1s 2ms/step - loss: 3.3760 - accuracy: 0.4190\n"
          ]
        },
        {
          "output_type": "execute_result",
          "data": {
            "text/plain": [
              "[3.3759918212890625, 0.4189999997615814]"
            ]
          },
          "metadata": {},
          "execution_count": 86
        }
      ]
    },
    {
      "cell_type": "code",
      "source": [
        "model6.evaluate(cpd2, y_test)"
      ],
      "metadata": {
        "colab": {
          "base_uri": "https://localhost:8080/"
        },
        "id": "JCsa3rA72lb2",
        "outputId": "13d77d31-94be-461a-b10c-f4429a90d500"
      },
      "execution_count": null,
      "outputs": [
        {
          "output_type": "stream",
          "name": "stdout",
          "text": [
            "313/313 [==============================] - 0s 2ms/step - loss: 3.4608 - accuracy: 0.5512\n"
          ]
        },
        {
          "output_type": "execute_result",
          "data": {
            "text/plain": [
              "[3.460767984390259, 0.5511999726295471]"
            ]
          },
          "metadata": {},
          "execution_count": 87
        }
      ]
    },
    {
      "cell_type": "code",
      "source": [
        "model8.evaluate(cpd2, y_test)"
      ],
      "metadata": {
        "id": "TQ-0p95c3cfO",
        "outputId": "52207b7a-595c-4c7e-fa54-015fc6067565",
        "colab": {
          "base_uri": "https://localhost:8080/"
        }
      },
      "execution_count": null,
      "outputs": [
        {
          "output_type": "stream",
          "name": "stdout",
          "text": [
            "313/313 [==============================] - 1s 2ms/step - loss: 3.0106 - accuracy: 0.6224\n"
          ]
        },
        {
          "output_type": "execute_result",
          "data": {
            "text/plain": [
              "[3.0105783939361572, 0.6223999857902527]"
            ]
          },
          "metadata": {},
          "execution_count": 88
        }
      ]
    },
    {
      "cell_type": "code",
      "source": [
        "model9.evaluate(cpd2, y_test)"
      ],
      "metadata": {
        "id": "G4gS7c_K3ebj",
        "outputId": "ddfc1924-e81c-48b2-f8ca-618e5043feda",
        "colab": {
          "base_uri": "https://localhost:8080/"
        }
      },
      "execution_count": null,
      "outputs": [
        {
          "output_type": "stream",
          "name": "stdout",
          "text": [
            "313/313 [==============================] - 1s 2ms/step - loss: 1.9891 - accuracy: 0.6900\n"
          ]
        },
        {
          "output_type": "execute_result",
          "data": {
            "text/plain": [
              "[1.989107608795166, 0.6899999976158142]"
            ]
          },
          "metadata": {},
          "execution_count": 89
        }
      ]
    },
    {
      "cell_type": "code",
      "source": [
        "model3.evaluate(cpd2, y_test)"
      ],
      "metadata": {
        "id": "3lTmrFm43fXi",
        "outputId": "09a349e1-31a7-40df-945d-f45d9d3be58b",
        "colab": {
          "base_uri": "https://localhost:8080/"
        }
      },
      "execution_count": null,
      "outputs": [
        {
          "output_type": "stream",
          "name": "stdout",
          "text": [
            "313/313 [==============================] - 1s 2ms/step - loss: 1.0661 - accuracy: 0.7166\n"
          ]
        },
        {
          "output_type": "execute_result",
          "data": {
            "text/plain": [
              "[1.0660953521728516, 0.7166000008583069]"
            ]
          },
          "metadata": {},
          "execution_count": 90
        }
      ]
    },
    {
      "cell_type": "code",
      "source": [
        ""
      ],
      "metadata": {
        "id": "ud3O9zEl3iAV"
      },
      "execution_count": null,
      "outputs": []
    }
  ]
}